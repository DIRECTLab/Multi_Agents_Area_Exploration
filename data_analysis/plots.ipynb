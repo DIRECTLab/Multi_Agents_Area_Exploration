{
 "cells": [
  {
   "cell_type": "code",
   "execution_count": 1,
   "metadata": {},
   "outputs": [],
   "source": [
    "import pandas as pd\n",
    "import numpy as np\n",
    "import os\n",
    "\n",
    "import matplotlib.pyplot as plt\n",
    "import seaborn as sns"
   ]
  },
  {
   "cell_type": "code",
   "execution_count": 2,
   "metadata": {},
   "outputs": [],
   "source": [
    "sns.set_theme(style=\"darkgrid\")\n",
    "sns.set(rc={'figure.figsize':(11.7,8.27)})"
   ]
  },
  {
   "cell_type": "code",
   "execution_count": 3,
   "metadata": {},
   "outputs": [],
   "source": [
    "# # pwd\n",
    "# os.chdir('..')\n",
    "# all_df = pd.read_csv('/Users/cta/Documents/GitHub/Multi_Agents_Area_Exploration/data/all_data.csv')\n",
    "\n",
    "cwd = os.getcwd()\n",
    "root_directory = os.path.dirname(os.getcwd())"
   ]
  },
  {
   "cell_type": "code",
   "execution_count": 4,
   "metadata": {},
   "outputs": [
    {
     "name": "stdout",
     "output_type": "stream",
     "text": [
      "<class 'pandas.core.frame.DataFrame'>\n",
      "RangeIndex: 676167 entries, 0 to 676166\n",
      "Data columns (total 39 columns):\n",
      " #   Column          Non-Null Count   Dtype  \n",
      "---  ------          --------------   -----  \n",
      " 0   Unnamed: 0      676167 non-null  int64  \n",
      " 1   area_percent    676167 non-null  float64\n",
      " 2   update_time     676167 non-null  float64\n",
      " 3   delta_time      676167 non-null  float64\n",
      " 4   plan_length     676167 non-null  int64  \n",
      " 5   replan_count    676167 non-null  int64  \n",
      " 6   logging_time    676167 non-null  float64\n",
      " 7   epsilon_0       174757 non-null  float64\n",
      " 8   epsilon_1       174757 non-null  float64\n",
      " 9   epsilon_2       174757 non-null  float64\n",
      " 10  epsilon_3       174757 non-null  float64\n",
      " 11  frame_count     676167 non-null  int64  \n",
      " 12  known_area      676167 non-null  int64  \n",
      " 13  success         676167 non-null  bool   \n",
      " 14  seed            676167 non-null  int64  \n",
      " 15  draw_sim        676167 non-null  bool   \n",
      " 16  log_plots       676167 non-null  bool   \n",
      " 17  use_threads     676167 non-null  bool   \n",
      " 18  n_bots          676167 non-null  int64  \n",
      " 19  grid_thickness  676167 non-null  int64  \n",
      " 20  screen_width    676167 non-null  int64  \n",
      " 21  screen_height   676167 non-null  int64  \n",
      " 22  min_room_size   676167 non-null  int64  \n",
      " 23  max_room_size   676167 non-null  int64  \n",
      " 24  wall_ratio      676167 non-null  float64\n",
      " 25  method          676167 non-null  object \n",
      " 26  start_scenario  676167 non-null  object \n",
      " 27  goal_scenario   676167 non-null  object \n",
      " 28  experiment_ID   676167 non-null  int64  \n",
      " 29  loss_type       676167 non-null  object \n",
      " 30  execution_date  676167 non-null  object \n",
      " 31  epsilon_4       85410 non-null   float64\n",
      " 32  epsilon_5       85410 non-null   float64\n",
      " 33  epsilon_6       85410 non-null   float64\n",
      " 34  epsilon_7       85410 non-null   float64\n",
      " 35  epsilon_8       35081 non-null   float64\n",
      " 36  epsilon_9       35081 non-null   float64\n",
      " 37  epsilon_10      35081 non-null   float64\n",
      " 38  epsilon_11      35081 non-null   float64\n",
      "dtypes: bool(4), float64(17), int64(13), object(5)\n",
      "memory usage: 183.1+ MB\n"
     ]
    }
   ],
   "source": [
    "# check the data for NaN values or other errors\n",
    "# df_all = pd.read_csv(f\"{root_directory}/data/all_data.csv\")\n",
    "# data_save/all_data_map-len30.csv\n",
    "df_all = pd.read_csv(f\"{root_directory}/data_save/all_data_map-len30.csv\")\n",
    "\n",
    "df_all.info()"
   ]
  },
  {
   "cell_type": "code",
   "execution_count": 5,
   "metadata": {},
   "outputs": [
    {
     "data": {
      "text/plain": [
       "(676167, 39)"
      ]
     },
     "execution_count": 5,
     "metadata": {},
     "output_type": "execute_result"
    }
   ],
   "source": [
    "df_all.shape"
   ]
  },
  {
   "cell_type": "code",
   "execution_count": 6,
   "metadata": {},
   "outputs": [
    {
     "data": {
      "text/plain": [
       "(676167, 27)"
      ]
     },
     "execution_count": 6,
     "metadata": {},
     "output_type": "execute_result"
    }
   ],
   "source": [
    "# drop all columns with NaN values\n",
    "df_all = df_all.dropna(axis=1)\n",
    "df_all.shape"
   ]
  },
  {
   "cell_type": "code",
   "execution_count": 7,
   "metadata": {},
   "outputs": [],
   "source": [
    "df_all['method'] = df_all['method'].astype('category')\n",
    "df_all['method'] = df_all['method'].apply(lambda x: x.replace('_', ' ').title())\n",
    "\n",
    "# remove all _ from the column names\n",
    "df_all.columns = df_all.columns.str.replace('_', ' ')\n",
    "# make all the columns tital like\n",
    "df_all.columns = df_all.columns.str.title()\n",
    "\n"
   ]
  },
  {
   "cell_type": "code",
   "execution_count": 8,
   "metadata": {},
   "outputs": [
    {
     "data": {
      "text/html": [
       "<div>\n",
       "<style scoped>\n",
       "    .dataframe tbody tr th:only-of-type {\n",
       "        vertical-align: middle;\n",
       "    }\n",
       "\n",
       "    .dataframe tbody tr th {\n",
       "        vertical-align: top;\n",
       "    }\n",
       "\n",
       "    .dataframe thead th {\n",
       "        text-align: right;\n",
       "    }\n",
       "</style>\n",
       "<table border=\"1\" class=\"dataframe\">\n",
       "  <thead>\n",
       "    <tr style=\"text-align: right;\">\n",
       "      <th></th>\n",
       "      <th>Unnamed: 0</th>\n",
       "      <th>Area Percent</th>\n",
       "      <th>Update Time</th>\n",
       "      <th>Delta Time</th>\n",
       "      <th>Plan Length</th>\n",
       "      <th>Replan Count</th>\n",
       "      <th>Logging Time</th>\n",
       "      <th>Frame Count</th>\n",
       "      <th>Known Area</th>\n",
       "      <th>Seed</th>\n",
       "      <th>N Bots</th>\n",
       "      <th>Grid Thickness</th>\n",
       "      <th>Screen Width</th>\n",
       "      <th>Screen Height</th>\n",
       "      <th>Min Room Size</th>\n",
       "      <th>Max Room Size</th>\n",
       "      <th>Wall Ratio</th>\n",
       "      <th>Experiment Id</th>\n",
       "    </tr>\n",
       "  </thead>\n",
       "  <tbody>\n",
       "    <tr>\n",
       "      <th>count</th>\n",
       "      <td>676167.000000</td>\n",
       "      <td>676167.000000</td>\n",
       "      <td>676167.000000</td>\n",
       "      <td>676167.000000</td>\n",
       "      <td>676167.000000</td>\n",
       "      <td>676167.000000</td>\n",
       "      <td>676167.000000</td>\n",
       "      <td>676167.000000</td>\n",
       "      <td>676167.000000</td>\n",
       "      <td>676167.000000</td>\n",
       "      <td>676167.000000</td>\n",
       "      <td>676167.0</td>\n",
       "      <td>676167.0</td>\n",
       "      <td>676167.0</td>\n",
       "      <td>676167.0</td>\n",
       "      <td>676167.0</td>\n",
       "      <td>676167.000000</td>\n",
       "      <td>676167.000000</td>\n",
       "    </tr>\n",
       "    <tr>\n",
       "      <th>mean</th>\n",
       "      <td>338083.000000</td>\n",
       "      <td>0.837640</td>\n",
       "      <td>0.038385</td>\n",
       "      <td>1.694483</td>\n",
       "      <td>80.088060</td>\n",
       "      <td>109.121383</td>\n",
       "      <td>0.000212</td>\n",
       "      <td>64.291814</td>\n",
       "      <td>753.876106</td>\n",
       "      <td>59.724164</td>\n",
       "      <td>6.772161</td>\n",
       "      <td>10.0</td>\n",
       "      <td>300.0</td>\n",
       "      <td>300.0</td>\n",
       "      <td>100.0</td>\n",
       "      <td>200.0</td>\n",
       "      <td>0.178846</td>\n",
       "      <td>3710.675586</td>\n",
       "    </tr>\n",
       "    <tr>\n",
       "      <th>std</th>\n",
       "      <td>195192.744071</td>\n",
       "      <td>0.186721</td>\n",
       "      <td>0.051350</td>\n",
       "      <td>1.208961</td>\n",
       "      <td>54.886227</td>\n",
       "      <td>106.428693</td>\n",
       "      <td>0.001440</td>\n",
       "      <td>62.339935</td>\n",
       "      <td>168.049009</td>\n",
       "      <td>17.165998</td>\n",
       "      <td>3.147731</td>\n",
       "      <td>0.0</td>\n",
       "      <td>0.0</td>\n",
       "      <td>0.0</td>\n",
       "      <td>0.0</td>\n",
       "      <td>0.0</td>\n",
       "      <td>0.015118</td>\n",
       "      <td>2135.200711</td>\n",
       "    </tr>\n",
       "    <tr>\n",
       "      <th>min</th>\n",
       "      <td>0.000000</td>\n",
       "      <td>0.140000</td>\n",
       "      <td>0.000000</td>\n",
       "      <td>0.000000</td>\n",
       "      <td>0.000000</td>\n",
       "      <td>4.000000</td>\n",
       "      <td>0.000000</td>\n",
       "      <td>0.000000</td>\n",
       "      <td>126.000000</td>\n",
       "      <td>30.000000</td>\n",
       "      <td>4.000000</td>\n",
       "      <td>10.0</td>\n",
       "      <td>300.0</td>\n",
       "      <td>300.0</td>\n",
       "      <td>100.0</td>\n",
       "      <td>200.0</td>\n",
       "      <td>0.157778</td>\n",
       "      <td>0.000000</td>\n",
       "    </tr>\n",
       "    <tr>\n",
       "      <th>25%</th>\n",
       "      <td>169041.500000</td>\n",
       "      <td>0.743333</td>\n",
       "      <td>0.010000</td>\n",
       "      <td>0.720000</td>\n",
       "      <td>39.000000</td>\n",
       "      <td>49.000000</td>\n",
       "      <td>0.000000</td>\n",
       "      <td>22.000000</td>\n",
       "      <td>669.000000</td>\n",
       "      <td>45.000000</td>\n",
       "      <td>4.000000</td>\n",
       "      <td>10.0</td>\n",
       "      <td>300.0</td>\n",
       "      <td>300.0</td>\n",
       "      <td>100.0</td>\n",
       "      <td>200.0</td>\n",
       "      <td>0.157778</td>\n",
       "      <td>1862.000000</td>\n",
       "    </tr>\n",
       "    <tr>\n",
       "      <th>50%</th>\n",
       "      <td>338083.000000</td>\n",
       "      <td>0.914444</td>\n",
       "      <td>0.020000</td>\n",
       "      <td>1.490000</td>\n",
       "      <td>64.000000</td>\n",
       "      <td>87.000000</td>\n",
       "      <td>0.000000</td>\n",
       "      <td>46.000000</td>\n",
       "      <td>823.000000</td>\n",
       "      <td>60.000000</td>\n",
       "      <td>4.000000</td>\n",
       "      <td>10.0</td>\n",
       "      <td>300.0</td>\n",
       "      <td>300.0</td>\n",
       "      <td>100.0</td>\n",
       "      <td>200.0</td>\n",
       "      <td>0.188889</td>\n",
       "      <td>3513.000000</td>\n",
       "    </tr>\n",
       "    <tr>\n",
       "      <th>75%</th>\n",
       "      <td>507124.500000</td>\n",
       "      <td>0.986667</td>\n",
       "      <td>0.040000</td>\n",
       "      <td>2.450000</td>\n",
       "      <td>110.000000</td>\n",
       "      <td>139.000000</td>\n",
       "      <td>0.000000</td>\n",
       "      <td>86.000000</td>\n",
       "      <td>888.000000</td>\n",
       "      <td>74.000000</td>\n",
       "      <td>8.000000</td>\n",
       "      <td>10.0</td>\n",
       "      <td>300.0</td>\n",
       "      <td>300.0</td>\n",
       "      <td>100.0</td>\n",
       "      <td>200.0</td>\n",
       "      <td>0.192222</td>\n",
       "      <td>5821.000000</td>\n",
       "    </tr>\n",
       "    <tr>\n",
       "      <th>max</th>\n",
       "      <td>676166.000000</td>\n",
       "      <td>1.000000</td>\n",
       "      <td>1.010000</td>\n",
       "      <td>9.540000</td>\n",
       "      <td>509.000000</td>\n",
       "      <td>2220.000000</td>\n",
       "      <td>0.010000</td>\n",
       "      <td>567.000000</td>\n",
       "      <td>900.000000</td>\n",
       "      <td>89.000000</td>\n",
       "      <td>12.000000</td>\n",
       "      <td>10.0</td>\n",
       "      <td>300.0</td>\n",
       "      <td>300.0</td>\n",
       "      <td>100.0</td>\n",
       "      <td>200.0</td>\n",
       "      <td>0.195556</td>\n",
       "      <td>7559.000000</td>\n",
       "    </tr>\n",
       "  </tbody>\n",
       "</table>\n",
       "</div>"
      ],
      "text/plain": [
       "          Unnamed: 0   Area Percent    Update Time     Delta Time  \\\n",
       "count  676167.000000  676167.000000  676167.000000  676167.000000   \n",
       "mean   338083.000000       0.837640       0.038385       1.694483   \n",
       "std    195192.744071       0.186721       0.051350       1.208961   \n",
       "min         0.000000       0.140000       0.000000       0.000000   \n",
       "25%    169041.500000       0.743333       0.010000       0.720000   \n",
       "50%    338083.000000       0.914444       0.020000       1.490000   \n",
       "75%    507124.500000       0.986667       0.040000       2.450000   \n",
       "max    676166.000000       1.000000       1.010000       9.540000   \n",
       "\n",
       "         Plan Length   Replan Count   Logging Time    Frame Count  \\\n",
       "count  676167.000000  676167.000000  676167.000000  676167.000000   \n",
       "mean       80.088060     109.121383       0.000212      64.291814   \n",
       "std        54.886227     106.428693       0.001440      62.339935   \n",
       "min         0.000000       4.000000       0.000000       0.000000   \n",
       "25%        39.000000      49.000000       0.000000      22.000000   \n",
       "50%        64.000000      87.000000       0.000000      46.000000   \n",
       "75%       110.000000     139.000000       0.000000      86.000000   \n",
       "max       509.000000    2220.000000       0.010000     567.000000   \n",
       "\n",
       "          Known Area           Seed         N Bots  Grid Thickness  \\\n",
       "count  676167.000000  676167.000000  676167.000000        676167.0   \n",
       "mean      753.876106      59.724164       6.772161            10.0   \n",
       "std       168.049009      17.165998       3.147731             0.0   \n",
       "min       126.000000      30.000000       4.000000            10.0   \n",
       "25%       669.000000      45.000000       4.000000            10.0   \n",
       "50%       823.000000      60.000000       4.000000            10.0   \n",
       "75%       888.000000      74.000000       8.000000            10.0   \n",
       "max       900.000000      89.000000      12.000000            10.0   \n",
       "\n",
       "       Screen Width  Screen Height  Min Room Size  Max Room Size  \\\n",
       "count      676167.0       676167.0       676167.0       676167.0   \n",
       "mean          300.0          300.0          100.0          200.0   \n",
       "std             0.0            0.0            0.0            0.0   \n",
       "min           300.0          300.0          100.0          200.0   \n",
       "25%           300.0          300.0          100.0          200.0   \n",
       "50%           300.0          300.0          100.0          200.0   \n",
       "75%           300.0          300.0          100.0          200.0   \n",
       "max           300.0          300.0          100.0          200.0   \n",
       "\n",
       "          Wall Ratio  Experiment Id  \n",
       "count  676167.000000  676167.000000  \n",
       "mean        0.178846    3710.675586  \n",
       "std         0.015118    2135.200711  \n",
       "min         0.157778       0.000000  \n",
       "25%         0.157778    1862.000000  \n",
       "50%         0.188889    3513.000000  \n",
       "75%         0.192222    5821.000000  \n",
       "max         0.195556    7559.000000  "
      ]
     },
     "execution_count": 8,
     "metadata": {},
     "output_type": "execute_result"
    }
   ],
   "source": [
    "df_all.describe()\n"
   ]
  },
  {
   "cell_type": "code",
   "execution_count": 9,
   "metadata": {},
   "outputs": [
    {
     "data": {
      "text/plain": [
       "Frontier Random                  95082\n",
       "Unknown Random                   62128\n",
       "Voronoi Frontier Random          58268\n",
       "Gametheory                       57441\n",
       "Decay Epsilon Greedy Frontier    53382\n",
       "Epsilon Greedy Frontier          47547\n",
       "Frontier Closest                 46391\n",
       "Voronoi Frontier Help Random     45933\n",
       "Decay Epsilon Greedy Unknown     38560\n",
       "Voronoi Frontier Closest         37134\n",
       "Decision Frontier Closest        36094\n",
       "Epsilon Greedy Unknown           35268\n",
       "Voronoi Frontier Help Closest    31943\n",
       "Unknown Closest                  30996\n",
       "Name: Method, dtype: int64"
      ]
     },
     "execution_count": 9,
     "metadata": {},
     "output_type": "execute_result"
    }
   ],
   "source": [
    "df_all['Method'].value_counts()"
   ]
  },
  {
   "cell_type": "code",
   "execution_count": 10,
   "metadata": {},
   "outputs": [
    {
     "data": {
      "text/plain": [
       "\"\\n'Unnamed: 0', 'Area Percent', 'Update Time', 'Delta Time',\\n       'Plan Length', 'Replan Count', 'Logging Time', 'Frame Count',\\n       'Known Area', 'Success', 'Seed', 'Draw Sim', 'Log Plots', 'Use Threads',\\n       'N Bots', 'Grid Thickness', 'Screen Width', 'Screen Height',\\n       'Min Room Size', 'Max Room Size', 'Wall Ratio', 'Method',\\n       'Start Scenario', 'Goal Scenario', 'Experiment Id', 'Loss Type',\\n       'Execution Date']\\n       \""
      ]
     },
     "execution_count": 10,
     "metadata": {},
     "output_type": "execute_result"
    }
   ],
   "source": [
    "df_all.columns\n",
    "'''\n",
    "'Unnamed: 0', 'Area Percent', 'Update Time', 'Delta Time',\n",
    "       'Plan Length', 'Replan Count', 'Logging Time', 'Frame Count',\n",
    "       'Known Area', 'Success', 'Seed', 'Draw Sim', 'Log Plots', 'Use Threads',\n",
    "       'N Bots', 'Grid Thickness', 'Screen Width', 'Screen Height',\n",
    "       'Min Room Size', 'Max Room Size', 'Wall Ratio', 'Method',\n",
    "       'Start Scenario', 'Goal Scenario', 'Experiment Id', 'Loss Type',\n",
    "       'Execution Date']\n",
    "       '''"
   ]
  },
  {
   "cell_type": "code",
   "execution_count": 26,
   "metadata": {},
   "outputs": [
    {
     "data": {
      "text/plain": [
       "'| Method                        |   Frame Count |   Delta Time |\\n|:------------------------------|--------------:|-------------:|\\n| Decay Epsilon Greedy Frontier |           270 |         6.76 |\\n| Decay Epsilon Greedy Unknown  |           283 |         7.93 |\\n| Decision Frontier Closest     |           382 |         9.51 |\\n| Epsilon Greedy Frontier       |           257 |         6.23 |\\n| Epsilon Greedy Unknown        |           272 |         9.54 |\\n| Frontier Closest              |           262 |         8.14 |\\n| Frontier Random               |           567 |         9.37 |\\n| Gametheory                    |           514 |         7.03 |\\n| Unknown Closest               |           172 |         7.88 |\\n| Unknown Random                |           395 |         8.1  |\\n| Voronoi Frontier Closest      |           169 |         4.67 |\\n| Voronoi Frontier Help Closest |           219 |         6.52 |\\n| Voronoi Frontier Help Random  |           379 |         5.39 |\\n| Voronoi Frontier Random       |           455 |         8.53 |'"
      ]
     },
     "execution_count": 26,
     "metadata": {},
     "output_type": "execute_result"
    }
   ],
   "source": [
    "df_all.groupby(['Method']).max()[['Frame Count', 'Delta Time']].to_markdown()"
   ]
  },
  {
   "cell_type": "code",
   "execution_count": 25,
   "metadata": {},
   "outputs": [
    {
     "name": "stdout",
     "output_type": "stream",
     "text": [
      "Collecting tabulate\n",
      "  Downloading tabulate-0.9.0-py3-none-any.whl (35 kB)\n",
      "Installing collected packages: tabulate\n",
      "Successfully installed tabulate-0.9.0\n"
     ]
    }
   ],
   "source": [
    "!pip install tabulate"
   ]
  },
  {
   "cell_type": "code",
   "execution_count": null,
   "metadata": {},
   "outputs": [],
   "source": []
  },
  {
   "cell_type": "code",
   "execution_count": 18,
   "metadata": {},
   "outputs": [
    {
     "ename": "KeyError",
     "evalue": "('Frame Count', 'Delta Time')",
     "output_type": "error",
     "traceback": [
      "\u001b[0;31m---------------------------------------------------------------------------\u001b[0m",
      "\u001b[0;31mKeyError\u001b[0m                                  Traceback (most recent call last)",
      "File \u001b[0;32m~/anaconda3/envs/multi_agent/lib/python3.9/site-packages/pandas/core/indexes/base.py:3629\u001b[0m, in \u001b[0;36mIndex.get_loc\u001b[0;34m(self, key, method, tolerance)\u001b[0m\n\u001b[1;32m   3628\u001b[0m \u001b[39mtry\u001b[39;00m:\n\u001b[0;32m-> 3629\u001b[0m     \u001b[39mreturn\u001b[39;00m \u001b[39mself\u001b[39;49m\u001b[39m.\u001b[39;49m_engine\u001b[39m.\u001b[39;49mget_loc(casted_key)\n\u001b[1;32m   3630\u001b[0m \u001b[39mexcept\u001b[39;00m \u001b[39mKeyError\u001b[39;00m \u001b[39mas\u001b[39;00m err:\n",
      "File \u001b[0;32m~/anaconda3/envs/multi_agent/lib/python3.9/site-packages/pandas/_libs/index.pyx:136\u001b[0m, in \u001b[0;36mpandas._libs.index.IndexEngine.get_loc\u001b[0;34m()\u001b[0m\n",
      "File \u001b[0;32m~/anaconda3/envs/multi_agent/lib/python3.9/site-packages/pandas/_libs/index.pyx:163\u001b[0m, in \u001b[0;36mpandas._libs.index.IndexEngine.get_loc\u001b[0;34m()\u001b[0m\n",
      "File \u001b[0;32mpandas/_libs/hashtable_class_helper.pxi:5198\u001b[0m, in \u001b[0;36mpandas._libs.hashtable.PyObjectHashTable.get_item\u001b[0;34m()\u001b[0m\n",
      "File \u001b[0;32mpandas/_libs/hashtable_class_helper.pxi:5206\u001b[0m, in \u001b[0;36mpandas._libs.hashtable.PyObjectHashTable.get_item\u001b[0;34m()\u001b[0m\n",
      "\u001b[0;31mKeyError\u001b[0m: ('Frame Count', 'Delta Time')",
      "\nThe above exception was the direct cause of the following exception:\n",
      "\u001b[0;31mKeyError\u001b[0m                                  Traceback (most recent call last)",
      "Cell \u001b[0;32mIn[18], line 2\u001b[0m\n\u001b[1;32m      1\u001b[0m \u001b[39m# The average frame_count for each method\u001b[39;00m\n\u001b[0;32m----> 2\u001b[0m df_all\u001b[39m.\u001b[39;49mgroupby([\u001b[39m'\u001b[39;49m\u001b[39mMethod\u001b[39;49m\u001b[39m'\u001b[39;49m])\u001b[39m.\u001b[39;49mmax()[\u001b[39m'\u001b[39;49m\u001b[39mFrame Count\u001b[39;49m\u001b[39m'\u001b[39;49m, \u001b[39m'\u001b[39;49m\u001b[39mDelta Time\u001b[39;49m\u001b[39m'\u001b[39;49m]\u001b[39m.\u001b[39msort_values()\u001b[39m.\u001b[39mapply(\u001b[39mlambda\u001b[39;00m x: \u001b[39m'\u001b[39m\u001b[39m,\u001b[39m\u001b[39m'\u001b[39m\u001b[39m+\u001b[39m\u001b[39mstr\u001b[39m(\u001b[39mint\u001b[39m(x)))\u001b[39m.\u001b[39mto_frame()\n",
      "File \u001b[0;32m~/anaconda3/envs/multi_agent/lib/python3.9/site-packages/pandas/core/frame.py:3505\u001b[0m, in \u001b[0;36mDataFrame.__getitem__\u001b[0;34m(self, key)\u001b[0m\n\u001b[1;32m   3503\u001b[0m \u001b[39mif\u001b[39;00m \u001b[39mself\u001b[39m\u001b[39m.\u001b[39mcolumns\u001b[39m.\u001b[39mnlevels \u001b[39m>\u001b[39m \u001b[39m1\u001b[39m:\n\u001b[1;32m   3504\u001b[0m     \u001b[39mreturn\u001b[39;00m \u001b[39mself\u001b[39m\u001b[39m.\u001b[39m_getitem_multilevel(key)\n\u001b[0;32m-> 3505\u001b[0m indexer \u001b[39m=\u001b[39m \u001b[39mself\u001b[39;49m\u001b[39m.\u001b[39;49mcolumns\u001b[39m.\u001b[39;49mget_loc(key)\n\u001b[1;32m   3506\u001b[0m \u001b[39mif\u001b[39;00m is_integer(indexer):\n\u001b[1;32m   3507\u001b[0m     indexer \u001b[39m=\u001b[39m [indexer]\n",
      "File \u001b[0;32m~/anaconda3/envs/multi_agent/lib/python3.9/site-packages/pandas/core/indexes/base.py:3631\u001b[0m, in \u001b[0;36mIndex.get_loc\u001b[0;34m(self, key, method, tolerance)\u001b[0m\n\u001b[1;32m   3629\u001b[0m     \u001b[39mreturn\u001b[39;00m \u001b[39mself\u001b[39m\u001b[39m.\u001b[39m_engine\u001b[39m.\u001b[39mget_loc(casted_key)\n\u001b[1;32m   3630\u001b[0m \u001b[39mexcept\u001b[39;00m \u001b[39mKeyError\u001b[39;00m \u001b[39mas\u001b[39;00m err:\n\u001b[0;32m-> 3631\u001b[0m     \u001b[39mraise\u001b[39;00m \u001b[39mKeyError\u001b[39;00m(key) \u001b[39mfrom\u001b[39;00m \u001b[39merr\u001b[39;00m\n\u001b[1;32m   3632\u001b[0m \u001b[39mexcept\u001b[39;00m \u001b[39mTypeError\u001b[39;00m:\n\u001b[1;32m   3633\u001b[0m     \u001b[39m# If we have a listlike key, _check_indexing_error will raise\u001b[39;00m\n\u001b[1;32m   3634\u001b[0m     \u001b[39m#  InvalidIndexError. Otherwise we fall through and re-raise\u001b[39;00m\n\u001b[1;32m   3635\u001b[0m     \u001b[39m#  the TypeError.\u001b[39;00m\n\u001b[1;32m   3636\u001b[0m     \u001b[39mself\u001b[39m\u001b[39m.\u001b[39m_check_indexing_error(key)\n",
      "\u001b[0;31mKeyError\u001b[0m: ('Frame Count', 'Delta Time')"
     ]
    }
   ],
   "source": [
    "# The average frame_count for each method\n",
    "df_all.groupby(['Method']).max()['Frame Count', 'Delta Time'].sort_values().apply(lambda x: ','+str(int(x))).to_frame()"
   ]
  },
  {
   "cell_type": "code",
   "execution_count": null,
   "metadata": {},
   "outputs": [],
   "source": []
  },
  {
   "cell_type": "code",
   "execution_count": null,
   "metadata": {},
   "outputs": [],
   "source": []
  },
  {
   "cell_type": "code",
   "execution_count": null,
   "metadata": {},
   "outputs": [],
   "source": []
  },
  {
   "cell_type": "code",
   "execution_count": null,
   "metadata": {},
   "outputs": [],
   "source": []
  },
  {
   "cell_type": "code",
   "execution_count": null,
   "metadata": {},
   "outputs": [],
   "source": [
    "fig, ax = plt.subplots()\n",
    "sns.kdeplot(df_all, x='Frame Count', hue='Method',ax=ax, fill=True, common_norm=False, alpha=.1, linewidth=1)\n",
    "ax.set_title('Frame count per method')\n",
    "# set x range\n",
    "ax.set_xlim(0, 100)\n",
    "\n",
    "# ÷save the figure\n",
    "fig.savefig(f\"{root_directory}/data_analysis/plots/frame_count_per_method.png\")"
   ]
  },
  {
   "cell_type": "code",
   "execution_count": null,
   "metadata": {},
   "outputs": [],
   "source": [
    "fig, ax = plt.subplots()\n",
    "sns.kdeplot(df_all, x='Frame Count', hue='Loss Type',ax=ax, fill=True, common_norm=False, alpha=.1, linewidth=1)\n",
    "ax.set_title('Frame count per method')\n",
    "# set x range\n",
    "# ax.set_xlim(0, 100)"
   ]
  },
  {
   "cell_type": "code",
   "execution_count": null,
   "metadata": {},
   "outputs": [],
   "source": [
    "# fig, ax = plt.subplots()\n",
    "# sns.kdeplot(df_all.sample(1000), x=\"Frame Count\", y=\"Area Percent\",\n",
    "#               style=\"Method\",\n",
    "#               hue=\"Loss Type\",\n",
    "#               aphla=0.01, linewidth=1,\n",
    "#               # fill=True,\n",
    "#             # thresh=0, levels=5, cmap=\"mako\"\n",
    "#             )\n",
    "\n",
    "# sns.lineplot(df_all.sample(1000), x=\"Frame Count\", y=\"Area Percent\", \n",
    "#               hue=\"Loss Type\",\n",
    "#             #   fill=True,\n",
    "#             # thresh=0, levels=5, cmap=\"mako\"\n",
    "#             )\n",
    "\n",
    "# ax.set_title('Frame count per method')\n",
    "# # set x range\n",
    "# ax.set_xlim(0, 100)\n",
    "# ax.set_ylim(0, 1)"
   ]
  },
  {
   "cell_type": "code",
   "execution_count": null,
   "metadata": {},
   "outputs": [],
   "source": [
    "samples_len = df_all.shape[0]//100\n",
    "samples_len"
   ]
  },
  {
   "cell_type": "code",
   "execution_count": null,
   "metadata": {},
   "outputs": [],
   "source": [
    "g = sns.FacetGrid(df_all.sample(samples_len), col=\"Loss Type\", col_wrap=3, height=4, aspect=1.5)\n",
    "\n",
    "# Map scatterplot to the FacetGrid\n",
    "g.map(sns.kdeplot, \n",
    "      'Frame Count', \n",
    "      hue='Method',\n",
    "      fill=True, #thresh=0, levels=100, cmap=\"mako\"\n",
    "      )"
   ]
  },
  {
   "cell_type": "code",
   "execution_count": null,
   "metadata": {},
   "outputs": [],
   "source": [
    "g = sns.JointGrid(data=df_all.sample(samples_len), y=\"Delta Time\", x=\"Frame Count\",hue='Loss Type', space=0)\n",
    "g.plot_joint(sns.kdeplot,\n",
    "            #  fill=True,\n",
    "             thresh=0, levels=100, alpha=0.25, linewidth=1)\n",
    "g.plot_marginals(sns.histplot, alpha=0.25, bins=100)\n",
    "g.plot_marginals(sns.kdeplot,alpha=1, )\n",
    "\n",
    "# set x range\n",
    "# g.ax_joint.set_xlim(0, 200)"
   ]
  },
  {
   "cell_type": "code",
   "execution_count": null,
   "metadata": {},
   "outputs": [],
   "source": [
    "# sns.relplot(\n",
    "#     data=df_all,\n",
    "#     x=\"Frame Count\", y=\"Logging Time\", hue=\"Method\",col=\"Loss Type\", col_wrap=3,\n",
    "#     kind=\"line\", ci=\"sd\", palette=\"dark\", alpha=.1, linewidth=1.5, height=6, aspect=1.5\n",
    "# )"
   ]
  },
  {
   "cell_type": "code",
   "execution_count": null,
   "metadata": {},
   "outputs": [],
   "source": [
    "df_all"
   ]
  },
  {
   "cell_type": "code",
   "execution_count": null,
   "metadata": {},
   "outputs": [],
   "source": [
    "sns.pairplot(df_all.sample(samples_len)['Frame Count', 'Delta Time', 'Area Percent', 'Method', 'Loss Type'],\n",
    "             hue='Method', corner=True, diag_kind='kde', height=2.5, aspect=1.5)"
   ]
  }
 ],
 "metadata": {
  "kernelspec": {
   "display_name": "tensorflow",
   "language": "python",
   "name": "python3"
  },
  "language_info": {
   "codemirror_mode": {
    "name": "ipython",
    "version": 3
   },
   "file_extension": ".py",
   "mimetype": "text/x-python",
   "name": "python",
   "nbconvert_exporter": "python",
   "pygments_lexer": "ipython3",
   "version": "3.9.2"
  },
  "orig_nbformat": 4
 },
 "nbformat": 4,
 "nbformat_minor": 2
}
