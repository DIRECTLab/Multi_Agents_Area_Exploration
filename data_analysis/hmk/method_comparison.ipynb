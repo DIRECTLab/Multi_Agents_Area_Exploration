{
 "cells": [
  {
   "cell_type": "code",
   "execution_count": null,
   "metadata": {},
   "outputs": [],
   "source": [
    "import pandas as pd\n",
    "import numpy as np\n",
    "import seaborn as sns\n",
    "import matplotlib.pyplot as plt\n",
    "import os"
   ]
  },
  {
   "cell_type": "code",
   "execution_count": null,
   "metadata": {},
   "outputs": [],
   "source": [
    "root_dir = os.path.dirname(os.path.realpath('./../'))"
   ]
  },
  {
   "cell_type": "code",
   "execution_count": null,
   "metadata": {},
   "outputs": [],
   "source": [
    "df_all = pd.read_csv(f\"{root_dir}/backup_data/exp_2_dense_and_empty/all_data.csv\")\n",
    "pd.set_option('display.max_columns', None)\n",
    "df_all.head()"
   ]
  },
  {
   "cell_type": "code",
   "execution_count": null,
   "metadata": {},
   "outputs": [],
   "source": [
    "df_all.shape"
   ]
  },
  {
   "cell_type": "code",
   "execution_count": null,
   "metadata": {},
   "outputs": [],
   "source": [
    "df_all.columns"
   ]
  },
  {
   "cell_type": "code",
   "execution_count": null,
   "metadata": {},
   "outputs": [],
   "source": [
    "df_all['method'] = df_all['method'].astype('category')\n",
    "df_all['method'] = df_all['method'].apply(lambda x: x.replace('_', ' ').title())\n",
    "\n",
    "# remove all _ from the column names\n",
    "df_all.columns = df_all.columns.str.replace('_', ' ')\n",
    "# make all the columns tital like\n",
    "df_all.columns = df_all.columns.str.title()"
   ]
  },
  {
   "cell_type": "code",
   "execution_count": null,
   "metadata": {},
   "outputs": [],
   "source": [
    "df_all.columns"
   ]
  },
  {
   "cell_type": "code",
   "execution_count": null,
   "metadata": {},
   "outputs": [],
   "source": [
    "dense_room = df_all[(df_all['N Bots']==4) & (df_all['Min Room Size']==30)]"
   ]
  },
  {
   "cell_type": "code",
   "execution_count": null,
   "metadata": {},
   "outputs": [],
   "source": [
    "empty_room = df_all[(df_all['N Bots']==4) & (df_all['Min Room Size']==300)]"
   ]
  },
  {
   "cell_type": "code",
   "execution_count": null,
   "metadata": {},
   "outputs": [],
   "source": [
    "dense_room.shape"
   ]
  },
  {
   "cell_type": "code",
   "execution_count": null,
   "metadata": {},
   "outputs": [],
   "source": [
    "empty_room.shape"
   ]
  },
  {
   "cell_type": "code",
   "execution_count": null,
   "metadata": {},
   "outputs": [],
   "source": [
    "sns.lineplot(x=\"Frame Count\", y='Area Percent', hue=\"Method\", data=dense_room)\n",
    "# plt.ylim(0.6, 1)\n",
    "# plt.xlim(0,200)\n",
    "# save the plot\n",
    "os.makedirs(f\"{root_dir}/data_analysis/plotting\", exist_ok=True)\n",
    "plt.savefig(f\"{root_dir}/data_analysis/plotting/area_percent_vs_frame_count_hue_method.png\", dpi=300)\n"
   ]
  },
  {
   "cell_type": "code",
   "execution_count": null,
   "metadata": {},
   "outputs": [],
   "source": [
    "sns.lineplot(x=\"Frame Count\", y='Area Percent', hue=\"Method\", data=empty_room)\n",
    "# plt.ylim(0.6, 1)\n",
    "# plt.xlim(0,200)\n",
    "# save the plot\n",
    "os.makedirs(f\"{root_dir}/data_analysis/plotting\", exist_ok=True)\n",
    "plt.savefig(f\"{root_dir}/data_analysis/plotting/area_percent_vs_frame_count_hue_method.png\", dpi=300)\n"
   ]
  },
  {
   "cell_type": "code",
   "execution_count": null,
   "metadata": {},
   "outputs": [],
   "source": [
    "# print the unique method name from the data\n",
    "df_all['Method']"
   ]
  },
  {
   "cell_type": "code",
   "execution_count": null,
   "metadata": {},
   "outputs": [],
   "source": [
    "df_all['M'] = df_all['Method'].apply(lambda x: ''.join([str(i[0])+'.' for i in x.split(' ')]))\n",
    "df_all['M'] "
   ]
  },
  {
   "cell_type": "code",
   "execution_count": null,
   "metadata": {},
   "outputs": [],
   "source": [
    "df_all.head()"
   ]
  },
  {
   "cell_type": "code",
   "execution_count": null,
   "metadata": {},
   "outputs": [],
   "source": [
    "df_all.columns"
   ]
  },
  {
   "cell_type": "code",
   "execution_count": null,
   "metadata": {},
   "outputs": [],
   "source": [
    "df_all.shape"
   ]
  },
  {
   "cell_type": "code",
   "execution_count": null,
   "metadata": {},
   "outputs": [],
   "source": [
    "df_all[df_all['M']=='F.C.']"
   ]
  },
  {
   "cell_type": "code",
   "execution_count": null,
   "metadata": {},
   "outputs": [],
   "source": [
    "sns.lineplot(x=\"Frame Count\", y='Area Percent', hue=\"M\", data=df_all)\n",
    "# plt.ylim(0.6, 1)\n",
    "# plt.xlim(0,200)\n",
    "# save the plot\n",
    "os.makedirs(f\"{root_dir}/data_analysis/plotting\", exist_ok=True)\n",
    "plt.savefig(f\"{root_dir}/data_analysis/plotting/area_percent_vs_frame_count_hue_method.png\", dpi=300)\n"
   ]
  },
  {
   "cell_type": "code",
   "execution_count": null,
   "metadata": {},
   "outputs": [],
   "source": [
    "fig, ax = plt.subplots()\n",
    "\n",
    "for i,[method, group] in enumerate(df_all.groupby(['M'])):\n",
    "    # group by 'frame_count' column\n",
    "    count_group = group.groupby(['Frame Count'])\n",
    "    # plot mean of 'area_percent' against 'frame_count'\n",
    "    x_data = count_group['Area Percent'].mean()\n",
    "    plt.plot(x_data, label=method)\n",
    "\n",
    "plt.ylim(0.5, 1)\n",
    "plt.xlim(0,400)\n",
    "plt.grid(True, which=\"both\", ls=\"-\", color='0.65')\n",
    "plt.xlabel('Frame Count')\n",
    "plt.ylabel('Area Percent')\n",
    "# place the legend outside the plot\n",
    "plt.legend(bbox_to_anchor=(1.05, 1), loc='upper left', borderaxespad=0.)\n",
    "plt.tight_layout()\n",
    "\n",
    "# save the figure\n",
    "plt.savefig(f\"{root_dir}/data_analysis/plotting/area_percent_vs_frame_count_mean_hue_method.png\", dpi=300)"
   ]
  },
  {
   "cell_type": "code",
   "execution_count": null,
   "metadata": {},
   "outputs": [],
   "source": [
    "sns.lineplot(x=\"Frame Count\", y=\"Area Percent\", hue=\"N Bots\", data=df_all)\n",
    "# set y range\n",
    "# plt.ylim(0.0, 1.0)\n",
    "# plt.xlim(0, 400)\n",
    "plt.grid(True, which=\"both\", ls=\"-\", color='0.65')\n",
    "plt.yticks(np.arange(0, 1, .10))\n",
    "plt.savefig(f\"{root_dir}/data_analysis/plotting/area_percent_vs_frame_count_hue_nbots.png\", dpi=300)"
   ]
  },
  {
   "cell_type": "code",
   "execution_count": null,
   "metadata": {},
   "outputs": [],
   "source": [
    "sns.lineplot(data=df_all, x=\"Frame Count\", y=\"Update Time\", hue=\"N Bots\")\n",
    "\n",
    "plt.grid(True, which=\"both\", ls=\"-\", color='0.65')\n",
    "\n",
    "plt.savefig(f\"{root_dir}/data_analysis/plotting/update_time_vs_frame_count_hue_nbots.png\", dpi=300)"
   ]
  },
  {
   "cell_type": "code",
   "execution_count": null,
   "metadata": {},
   "outputs": [],
   "source": [
    "# df_all['M'].unique()"
   ]
  },
  {
   "cell_type": "code",
   "execution_count": null,
   "metadata": {},
   "outputs": [],
   "source": [
    "# df_all['Experiment Id'].unique()"
   ]
  },
  {
   "cell_type": "code",
   "execution_count": null,
   "metadata": {},
   "outputs": [],
   "source": [
    "df_all[['Frame Count']].describe()"
   ]
  },
  {
   "cell_type": "code",
   "execution_count": null,
   "metadata": {},
   "outputs": [],
   "source": [
    "# the worst frame count for each method\n",
    "df_all.groupby(['Method']).max()['Frame Count'].sort_values()"
   ]
  },
  {
   "cell_type": "code",
   "execution_count": null,
   "metadata": {},
   "outputs": [],
   "source": [
    "# the worst condition of delta time\n",
    "df_all.groupby(['Method'])['Delta Time'].max().sort_values()"
   ]
  },
  {
   "cell_type": "code",
   "execution_count": null,
   "metadata": {},
   "outputs": [],
   "source": [
    "# group the data by method and get the average of their delta time\n",
    "df_all.groupby(['Method', 'Frame Count']).mean()"
   ]
  },
  {
   "cell_type": "code",
   "execution_count": null,
   "metadata": {},
   "outputs": [],
   "source": [
    "fig, ax = plt.subplots()\n",
    "\n",
    "for i,[method, group] in enumerate(df_all.groupby(['M'])):\n",
    "    # group by 'frame_count' column\n",
    "    sns.lineplot(data=group, x=\"Frame Count\", y=\"Delta Time\",err_style=\"bars\", ci=68, label=method, )\n",
    "\n",
    "plt.legend(bbox_to_anchor=(1.05, 1), loc='upper left', borderaxespad=0.)\n",
    "plt.tight_layout()\n",
    "plt.savefig(f\"{root_dir}/data_analysis/plotting/delta_time_vs_frame_count_hue_nbots.png\", dpi=300)\n"
   ]
  },
  {
   "cell_type": "code",
   "execution_count": null,
   "metadata": {},
   "outputs": [],
   "source": [
    "# df_all.groupby(['method','experiment_ID'])\n",
    "for i,[method, group] in enumerate(df_all.groupby(['Method', 'Experiment Id'])):\n",
    "    print(\"i: \", i, \"Method: \", method, \"Group: \", group.shape)\n",
    "    # group by 'frame_count' column\n",
    "    count_group = group.groupby(['Frame Count'])\n",
    "    # plot mean of 'area_percent' against 'frame_count' \n",
    "    # plt.plot( count_group['delta_time'].mean(), label=method, marker=markers[i])"
   ]
  }
 ],
 "metadata": {
  "kernelspec": {
   "display_name": "multiagent",
   "language": "python",
   "name": "python3"
  },
  "language_info": {
   "codemirror_mode": {
    "name": "ipython",
    "version": 3
   },
   "file_extension": ".py",
   "mimetype": "text/x-python",
   "name": "python",
   "nbconvert_exporter": "python",
   "pygments_lexer": "ipython3",
   "version": "3.9.2"
  },
  "orig_nbformat": 4
 },
 "nbformat": 4,
 "nbformat_minor": 2
}
