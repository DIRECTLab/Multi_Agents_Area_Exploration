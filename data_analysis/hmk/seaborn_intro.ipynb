{
 "cells": [
  {
   "attachments": {},
   "cell_type": "markdown",
   "metadata": {},
   "source": [
    "https://www.geeksforgeeks.org/data-visualization-with-python-seaborn/#"
   ]
  },
  {
   "attachments": {},
   "cell_type": "markdown",
   "metadata": {},
   "source": [
    "Pandas offer tools for cleaning and process your data. It is the most popular Python library that is used for data analysis. In pandas, a data table is called a dataframe."
   ]
  },
  {
   "cell_type": "code",
   "execution_count": null,
   "metadata": {},
   "outputs": [],
   "source": [
    "# import module\n",
    "import pandas\n",
    "root_dir = \"/media/hmk/Galeri/Files/Projects/Multi_Agents_Area_Exploration/data/nba.csv\"\n",
    "# load the csv\n",
    "data = pandas.read_csv(root_dir)\n",
    " \n",
    "# show first 5 column\n",
    "data.head()"
   ]
  },
  {
   "attachments": {},
   "cell_type": "markdown",
   "metadata": {},
   "source": [
    "Seaborn is an amazing visualization library for statistical graphics plotting in Python. It is built on the top of matplotlib library and also closely integrated into the data structures from pandas."
   ]
  },
  {
   "cell_type": "code",
   "execution_count": null,
   "metadata": {},
   "outputs": [],
   "source": [
    "# Importing libraries\n",
    "import numpy as np\n",
    "import seaborn as sns\n",
    "   \n",
    "   \n",
    "# Selecting style as white,\n",
    "# dark, whitegrid, darkgrid \n",
    "# or ticks\n",
    "sns.set(style = \"white\")\n",
    "   \n",
    "# Generate a random univariate dataset\n",
    "rs = np.random.RandomState(10)\n",
    "d = rs.normal(size = 50)\n",
    "   \n",
    "# Plot a simple histogram and kde\n",
    "# with binsize determined automatically\n",
    "sns.distplot(d, kde = True, color = \"g\")"
   ]
  },
  {
   "attachments": {},
   "cell_type": "markdown",
   "metadata": {},
   "source": [
    "    Line Plot           seaborn.lineplot(x=None, y=None, hue=None)\n",
    "    Scatter Plot        seaborn.scatterplot(x=None, y=None, hue=None)\n",
    "    Box plot            seaborn.boxplot(x=None, y=None, hue=None, data=None)\n",
    "    Point plot          seaborn.pointplot(x=None, y=None, hue=None, data=None)\n",
    "    Count plot          seaborn.countplot(x=None, y=None, hue=None, data=None)\n",
    "    Violin plot         seaborn.violinplot(x=None, y=None, hue=None, data=None)\n",
    "    Swarm plot          seaborn.swarmplot(x=None, y=None, hue=None, data=None)\n",
    "    Bar plot            seaborn.barplot(x=None, y=None, hue=None, data=None)\n",
    "    KDE Plot            seaborn.kdeplot(x=None, *, y=None, vertical=False, palette=None, **kwargs)"
   ]
  },
  {
   "attachments": {},
   "cell_type": "markdown",
   "metadata": {},
   "source": [
    "## Line plot:\n",
    "\n",
    "Lineplot is the most popular plot to draw a relationship between x and y with the possibility of several semantic groupings."
   ]
  },
  {
   "cell_type": "code",
   "execution_count": null,
   "metadata": {},
   "outputs": [],
   "source": [
    "# import module\n",
    "import seaborn as sns\n",
    "import pandas\n",
    " \n",
    "# loading csv\n",
    "data = pandas.read_csv(root_dir)\n",
    " \n",
    "# plotting lineplot\n",
    "sns.lineplot(x = data['Age'],y = data['Weight'])"
   ]
  },
  {
   "attachments": {},
   "cell_type": "markdown",
   "metadata": {},
   "source": [
    "Example 2: Use the hue parameter for plotting the graph."
   ]
  },
  {
   "cell_type": "code",
   "execution_count": null,
   "metadata": {},
   "outputs": [],
   "source": [
    "# import module\n",
    "import seaborn as sns\n",
    "import pandas\n",
    " \n",
    "# read the csv data\n",
    "data = pandas.read_csv(root_dir)\n",
    " \n",
    "# plot\n",
    "sns.lineplot(x = data['Age'], y = data['Weight'], hue = data[\"Position\"])"
   ]
  },
  {
   "attachments": {},
   "cell_type": "markdown",
   "metadata": {},
   "source": [
    "## Scatter Plot:\n",
    "\n",
    "Scatterplot can be used with several semantic groupings which can help to understand well in a graph against continuous/categorical data. It can draw a two-dimensional graph."
   ]
  },
  {
   "cell_type": "code",
   "execution_count": null,
   "metadata": {},
   "outputs": [],
   "source": [
    "# import module\n",
    "import seaborn\n",
    "import pandas\n",
    " \n",
    "# load csv\n",
    "data = pandas.read_csv(root_dir)\n",
    " \n",
    "# plotting\n",
    "seaborn.scatterplot(x = data['Age'],y = data['Weight'])"
   ]
  },
  {
   "attachments": {},
   "cell_type": "markdown",
   "metadata": {},
   "source": [
    "Example 2: Use the hue parameter for plotting the graph."
   ]
  },
  {
   "cell_type": "code",
   "execution_count": null,
   "metadata": {},
   "outputs": [],
   "source": [
    "import seaborn\n",
    "import pandas\n",
    "data = pandas.read_csv(root_dir)\n",
    " \n",
    "seaborn.scatterplot(x = data['Age'], y = data['Weight'], hue =data[\"Position\"])"
   ]
  },
  {
   "attachments": {},
   "cell_type": "markdown",
   "metadata": {},
   "source": [
    "## Box plot:\n",
    "\n",
    "A box plot (or box-and-whisker plot) s is the visual representation of the depicting groups of numerical data through their quartiles against continuous/categorical data.\n",
    "\n",
    "A box plot consists of 5 things.\n",
    "\n",
    "    Minimum\n",
    "    First Quartile or 25%\n",
    "    Median (Second Quartile) or 50%\n",
    "    Third Quartile or 75%\n",
    "    Maximum"
   ]
  },
  {
   "cell_type": "code",
   "execution_count": null,
   "metadata": {},
   "outputs": [],
   "source": [
    "# import module\n",
    "import seaborn as sns\n",
    "import pandas\n",
    " \n",
    "# read csv and plotting\n",
    "data = pandas.read_csv(root_dir)\n",
    "sns.boxplot( data['Age'] )"
   ]
  },
  {
   "cell_type": "code",
   "execution_count": null,
   "metadata": {},
   "outputs": [],
   "source": [
    "# import module\n",
    "import seaborn as sns\n",
    "import pandas\n",
    " \n",
    "# read csv and plotting\n",
    "data = pandas.read_csv(root_dir)\n",
    "sns.boxplot(x = data['Age'], y = data['Weight'])"
   ]
  },
  {
   "attachments": {},
   "cell_type": "markdown",
   "metadata": {},
   "source": [
    "## Violin Plot:\n",
    "\n",
    "A violin plot is similar to a boxplot. It shows several quantitative data across one or more categorical variables such that those distributions can be compared. "
   ]
  },
  {
   "cell_type": "code",
   "execution_count": null,
   "metadata": {},
   "outputs": [],
   "source": [
    "# import module\n",
    "import seaborn as sns\n",
    "import pandas\n",
    " \n",
    "# read csv and plot\n",
    "data = pandas.read_csv(root_dir)\n",
    "sns.violinplot(data['Age'])"
   ]
  },
  {
   "cell_type": "code",
   "execution_count": null,
   "metadata": {},
   "outputs": [],
   "source": [
    "# import module\n",
    "import seaborn\n",
    " \n",
    "seaborn.set(style = 'whitegrid')\n",
    " \n",
    "# read csv and plot\n",
    "data = pandas.read_csv(root_dir)\n",
    "seaborn.violinplot(x =\"Age\", y =\"Weight\",data = data)"
   ]
  },
  {
   "attachments": {},
   "cell_type": "markdown",
   "metadata": {},
   "source": [
    "## Swarm plot:\n",
    "\n",
    "A swarm plot is similar to a strip plot, we can draw a swarm plot with non-overlapping points against categorical data."
   ]
  },
  {
   "cell_type": "code",
   "execution_count": null,
   "metadata": {},
   "outputs": [],
   "source": [
    "# import module\n",
    "import seaborn\n",
    " \n",
    "seaborn.set(style = 'whitegrid')\n",
    " \n",
    "# read csv and plot\n",
    "data = pandas.read_csv(root_dir)\n",
    "seaborn.swarmplot(x = data[\"Age\"])"
   ]
  },
  {
   "cell_type": "code",
   "execution_count": null,
   "metadata": {},
   "outputs": [],
   "source": [
    "# import module\n",
    "import seaborn\n",
    " \n",
    "seaborn.set(style = 'whitegrid')\n",
    " \n",
    "# read csv and plot\n",
    "data = pandas.read_csv(root_dir)\n",
    "seaborn.swarmplot(x =\"Age\", y =\"Weight\", data = data)"
   ]
  },
  {
   "attachments": {},
   "cell_type": "markdown",
   "metadata": {},
   "source": [
    "## Bar plot:\n",
    "\n",
    "Barplot represents an estimate of central tendency for a numeric variable with the height of each rectangle and provides some indication of the uncertainty around that estimate using error bars. "
   ]
  },
  {
   "cell_type": "code",
   "execution_count": null,
   "metadata": {},
   "outputs": [],
   "source": [
    "# import module\n",
    "import seaborn\n",
    " \n",
    "seaborn.set(style = 'whitegrid')\n",
    " \n",
    "# read csv and plot\n",
    "data = pandas.read_csv(root_dir)\n",
    "seaborn.barplot(x =data[\"Age\"])"
   ]
  },
  {
   "cell_type": "code",
   "execution_count": null,
   "metadata": {},
   "outputs": [],
   "source": [
    "# import module\n",
    "import seaborn\n",
    " \n",
    "seaborn.set(style = 'whitegrid')\n",
    " \n",
    "# read csv and plot\n",
    "data = pandas.read_csv(root_dir)\n",
    "seaborn.barplot(x =\"Age\", y =\"Weight\", data = data)"
   ]
  },
  {
   "attachments": {},
   "cell_type": "markdown",
   "metadata": {},
   "source": [
    "## Point plot:\n",
    "\n",
    "Point plot used to show point estimates and confidence intervals using scatter plot glyphs. A point plot represents an estimate of central tendency for a numeric variable by the position of scatter plot points and provides some indication of the uncertainty around that estimate using error bars."
   ]
  },
  {
   "cell_type": "code",
   "execution_count": null,
   "metadata": {},
   "outputs": [],
   "source": [
    "# import module\n",
    "import seaborn\n",
    " \n",
    "seaborn.set(style = 'whitegrid')\n",
    " \n",
    "# read csv and plot\n",
    "data = pandas.read_csv(root_dir)\n",
    "seaborn.pointplot(x = \"Age\", y = \"Weight\", data = data)"
   ]
  },
  {
   "attachments": {},
   "cell_type": "markdown",
   "metadata": {},
   "source": [
    "## Count plot:\n",
    "\n",
    "Count plot used to Show the counts of observations in each categorical bin using bars.\n",
    "\n"
   ]
  },
  {
   "cell_type": "code",
   "execution_count": null,
   "metadata": {},
   "outputs": [],
   "source": [
    "# import module\n",
    "import seaborn\n",
    " \n",
    "seaborn.set(style = 'whitegrid')\n",
    " \n",
    "# read csv and plot\n",
    "data = pandas.read_csv(root_dir)\n",
    "seaborn.countplot(data[\"Age\"])"
   ]
  },
  {
   "attachments": {},
   "cell_type": "markdown",
   "metadata": {},
   "source": [
    "## KDE Plot:\n",
    "\n",
    "KDE Plot described as Kernel Density Estimate is used for visualizing the Probability Density of a continuous variable. It depicts the probability density at different values in a continuous variable. We can also plot a single graph for multiple samples which helps in more efficient data visualization."
   ]
  },
  {
   "cell_type": "code",
   "execution_count": null,
   "metadata": {},
   "outputs": [],
   "source": [
    "# importing the required libraries\n",
    "from sklearn import datasets\n",
    "import pandas as pd\n",
    "import seaborn as sns\n",
    "   \n",
    "# Setting up the Data Frame\n",
    "iris = datasets.load_iris()\n",
    "   \n",
    "iris_df = pd.DataFrame(iris.data, columns=['Sepal_Length',\n",
    "                      'Sepal_Width', 'Patal_Length', 'Petal_Width'])\n",
    "   \n",
    "iris_df['Target'] = iris.target\n",
    "   \n",
    "iris_df['Target'].replace([0], 'Iris_Setosa', inplace=True)\n",
    "iris_df['Target'].replace([1], 'Iris_Vercicolor', inplace=True)\n",
    "iris_df['Target'].replace([2], 'Iris_Virginica', inplace=True)\n",
    "   \n",
    "# Plotting the KDE Plot\n",
    "sns.kdeplot(iris_df.loc[(iris_df['Target'] =='Iris_Virginica'),\n",
    "            'Sepal_Length'], color = 'b', shade = True)"
   ]
  },
  {
   "cell_type": "code",
   "execution_count": null,
   "metadata": {},
   "outputs": [],
   "source": [
    "# import module\n",
    "import seaborn as sns\n",
    "import pandas\n",
    " \n",
    "# read top 5 column\n",
    "data = pandas.read_csv(root_dir).head()\n",
    " \n",
    "sns.kdeplot(x = data['Age'], y = data['Number'])"
   ]
  },
  {
   "attachments": {},
   "cell_type": "markdown",
   "metadata": {},
   "source": [
    "## Bivariate and Univariate data using seaborn and pandas:\n",
    "\n",
    "Bivariate data: This type of data involves two different variables. The analysis of this type of data deals with causes and relationships and the analysis is done to find out the relationship between the two variables.\n",
    "\n",
    "Univariate data: This type of data consists of only one variable. The analysis of univariate data is thus the simplest form of analysis since the information deals with only one quantity that changes. It does not deal with causes or relationships and the main purpose of the analysis is to describe the data and find patterns that exist within it."
   ]
  },
  {
   "attachments": {},
   "cell_type": "markdown",
   "metadata": {},
   "source": [
    "### Bivariate data examples:"
   ]
  },
  {
   "cell_type": "code",
   "execution_count": null,
   "metadata": {},
   "outputs": [],
   "source": [
    "# import module\n",
    "import seaborn as sns\n",
    "import pandas\n",
    " \n",
    "# read csv and plotting\n",
    "data = pandas.read_csv(root_dir)\n",
    "sns.boxplot(x = data['Age'], y = data['Height'])"
   ]
  },
  {
   "cell_type": "code",
   "execution_count": null,
   "metadata": {},
   "outputs": [],
   "source": [
    "# import module\n",
    "import seaborn as sns\n",
    "import pandas\n",
    " \n",
    "# read top 5 column\n",
    "data = pandas.read_csv(root_dir).head()\n",
    " \n",
    "sns.kdeplot(x = data['Age'], y = data['Weight'])"
   ]
  },
  {
   "attachments": {},
   "cell_type": "markdown",
   "metadata": {},
   "source": [
    "### Univariate data examples:"
   ]
  },
  {
   "cell_type": "code",
   "execution_count": null,
   "metadata": {},
   "outputs": [],
   "source": [
    "# import module\n",
    "import seaborn as sns\n",
    "import pandas\n",
    " \n",
    "# read top 5 column\n",
    "data = pandas.read_csv(root_dir).head()\n",
    " \n",
    "sns.distplot(data['Age'])"
   ]
  }
 ],
 "metadata": {
  "kernelspec": {
   "display_name": "multiagent",
   "language": "python",
   "name": "python3"
  },
  "language_info": {
   "codemirror_mode": {
    "name": "ipython",
    "version": 3
   },
   "file_extension": ".py",
   "mimetype": "text/x-python",
   "name": "python",
   "nbconvert_exporter": "python",
   "pygments_lexer": "ipython3",
   "version": "3.9.2"
  },
  "orig_nbformat": 4
 },
 "nbformat": 4,
 "nbformat_minor": 2
}
