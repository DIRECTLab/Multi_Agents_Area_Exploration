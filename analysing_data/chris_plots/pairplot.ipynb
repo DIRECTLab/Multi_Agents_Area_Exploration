{
 "cells": [
  {
   "cell_type": "code",
   "execution_count": 1,
   "metadata": {},
   "outputs": [],
   "source": [
    "import pandas as pd\n",
    "import numpy as np\n",
    "import os\n",
    "\n",
    "import matplotlib.pyplot as plt\n",
    "import seaborn as sns\n",
    "\n",
    "import pandas as pd\n",
    "import numpy as np\n",
    "import os\n",
    "\n",
    "import matplotlib.pyplot as plt\n",
    "import seaborn as sns"
   ]
  },
  {
   "cell_type": "code",
   "execution_count": 2,
   "metadata": {},
   "outputs": [],
   "source": [
    "sns.set_theme(style=\"darkgrid\")\n",
    "sns.set(rc={'figure.figsize':(11.7,8.27)})"
   ]
  },
  {
   "cell_type": "code",
   "execution_count": 3,
   "metadata": {},
   "outputs": [
    {
     "name": "stdout",
     "output_type": "stream",
     "text": [
      "<class 'pandas.core.frame.DataFrame'>\n",
      "RangeIndex: 11161945 entries, 0 to 11161944\n",
      "Data columns (total 27 columns):\n",
      " #   Column          Dtype  \n",
      "---  ------          -----  \n",
      " 0   Unnamed: 0      int64  \n",
      " 1   area_percent    float64\n",
      " 2   update_time     float64\n",
      " 3   delta_time      float64\n",
      " 4   plan_length     int64  \n",
      " 5   replan_count    int64  \n",
      " 6   logging_time    float64\n",
      " 7   frame_count     int64  \n",
      " 8   known_area      int64  \n",
      " 9   success         bool   \n",
      " 10  seed            int64  \n",
      " 11  draw_sim        bool   \n",
      " 12  log_plots       bool   \n",
      " 13  use_threads     bool   \n",
      " 14  n_bots          int64  \n",
      " 15  grid_thickness  int64  \n",
      " 16  screen_width    int64  \n",
      " 17  screen_height   int64  \n",
      " 18  min_room_size   int64  \n",
      " 19  max_room_size   int64  \n",
      " 20  wall_ratio      float64\n",
      " 21  method          object \n",
      " 22  start_scenario  object \n",
      " 23  goal_scenario   object \n",
      " 24  experiment_ID   int64  \n",
      " 25  loss_type       object \n",
      " 26  execution_date  object \n",
      "dtypes: bool(4), float64(5), int64(13), object(5)\n",
      "memory usage: 2.0+ GB\n"
     ]
    }
   ],
   "source": [
    "cwd = os.getcwd()\n",
    "root_directory = os.path.dirname(os.getcwd())\n",
    "# check the data for NaN values or other errors\n",
    "df_all = pd.read_csv(f\"{root_directory}/../data/all_data.csv\")\n",
    "# drop all columns with NaN values\n",
    "df_all = df_all.dropna(axis=1)\n",
    "df_all.info()"
   ]
  },
  {
   "cell_type": "code",
   "execution_count": 4,
   "metadata": {},
   "outputs": [],
   "source": [
    "df_all['method'] = df_all['method'].astype('category')\n",
    "df_all['method'] = df_all['method'].apply(lambda x: x.replace('_', ' ').title())\n",
    "\n",
    "# remove all _ from the column names\n",
    "df_all.columns = df_all.columns.str.replace('_', ' ')\n",
    "# make all the columns tital like\n",
    "df_all.columns = df_all.columns.str.title()"
   ]
  },
  {
   "cell_type": "code",
   "execution_count": 5,
   "metadata": {},
   "outputs": [
    {
     "data": {
      "text/plain": [
       "Index(['Unnamed: 0', 'Area Percent', 'Update Time', 'Delta Time',\n",
       "       'Plan Length', 'Replan Count', 'Logging Time', 'Frame Count',\n",
       "       'Known Area', 'Success', 'Seed', 'Draw Sim', 'Log Plots', 'Use Threads',\n",
       "       'N Bots', 'Grid Thickness', 'Screen Width', 'Screen Height',\n",
       "       'Min Room Size', 'Max Room Size', 'Wall Ratio', 'Method',\n",
       "       'Start Scenario', 'Goal Scenario', 'Experiment Id', 'Loss Type',\n",
       "       'Execution Date'],\n",
       "      dtype='object')"
      ]
     },
     "execution_count": 5,
     "metadata": {},
     "output_type": "execute_result"
    }
   ],
   "source": [
    "df_all.columns"
   ]
  },
  {
   "cell_type": "code",
   "execution_count": 6,
   "metadata": {},
   "outputs": [
    {
     "data": {
      "text/plain": [
       "['Area Percent', 'Update Time', 'Wall Ratio']"
      ]
     },
     "execution_count": 6,
     "metadata": {},
     "output_type": "execute_result"
    }
   ],
   "source": [
    "['Area Percent', 'Update Time', 'Wall Ratio']"
   ]
  },
  {
   "cell_type": "code",
   "execution_count": 7,
   "metadata": {},
   "outputs": [
    {
     "name": "stderr",
     "output_type": "stream",
     "text": [
      "<__array_function__ internals>:180: RuntimeWarning: Converting input from bool to <class 'numpy.uint8'> for compatibility.\n",
      "<__array_function__ internals>:180: RuntimeWarning: Converting input from bool to <class 'numpy.uint8'> for compatibility.\n",
      "<__array_function__ internals>:180: RuntimeWarning: Converting input from bool to <class 'numpy.uint8'> for compatibility.\n",
      "<__array_function__ internals>:180: RuntimeWarning: Converting input from bool to <class 'numpy.uint8'> for compatibility.\n",
      "<__array_function__ internals>:180: RuntimeWarning: Converting input from bool to <class 'numpy.uint8'> for compatibility.\n",
      "<__array_function__ internals>:180: RuntimeWarning: Converting input from bool to <class 'numpy.uint8'> for compatibility.\n",
      "<__array_function__ internals>:180: RuntimeWarning: Converting input from bool to <class 'numpy.uint8'> for compatibility.\n",
      "<__array_function__ internals>:180: RuntimeWarning: Converting input from bool to <class 'numpy.uint8'> for compatibility.\n"
     ]
    }
   ],
   "source": [
    "sns.pairplot(df_all, hue=\"Method\", corner=True, diag_kind=\"hist\", height=2.5)"
   ]
  },
  {
   "cell_type": "code",
   "execution_count": null,
   "metadata": {},
   "outputs": [],
   "source": [
    "df_exp = df_all.groupby(['Experiment Id', 'Method',])['Frame Count'].max().reset_index()\n",
    "\n",
    "df_exp"
   ]
  },
  {
   "cell_type": "code",
   "execution_count": null,
   "metadata": {},
   "outputs": [],
   "source": [
    "def corr(x, y, **kwargs):\n",
    "    \n",
    "    # Calculate the value\n",
    "    coef = np.corrcoef(x, y)[0][1]\n",
    "    # Make the label\n",
    "    label = r'$\\rho$ = ' + str(round(coef, 2))\n",
    "    \n",
    "    # Add the label to the plot\n",
    "    ax = plt.gca()\n",
    "    ax.annotate(label, xy = (0.2, 0.95), size = 20, xycoords = ax.transAxes)\n",
    "    \n"
   ]
  },
  {
   "cell_type": "code",
   "execution_count": null,
   "metadata": {},
   "outputs": [],
   "source": [
    "# Create a pair grid instance\n",
    "grid = sns.PairGrid(data= df_all[df_all['year'] == 2007],\n",
    "                    vars = ['life_exp', 'log_pop', 'log_gdp_per_cap'], size = 4)\n",
    "\n",
    "# Map the plots to the locations\n",
    "grid = grid.map_upper(plt.scatter, color = 'darkred')\n",
    "grid = grid.map_upper(corr)\n",
    "grid = grid.map_lower(sns.kdeplot, cmap = 'Reds')\n",
    "grid = grid.map_diag(plt.hist, bins = 10, edgecolor =  'k', color = 'darkred');"
   ]
  }
 ],
 "metadata": {
  "kernelspec": {
   "display_name": "multi_agent",
   "language": "python",
   "name": "python3"
  },
  "language_info": {
   "codemirror_mode": {
    "name": "ipython",
    "version": 3
   },
   "file_extension": ".py",
   "mimetype": "text/x-python",
   "name": "python",
   "nbconvert_exporter": "python",
   "pygments_lexer": "ipython3",
   "version": "3.9.2"
  },
  "orig_nbformat": 4
 },
 "nbformat": 4,
 "nbformat_minor": 2
}
