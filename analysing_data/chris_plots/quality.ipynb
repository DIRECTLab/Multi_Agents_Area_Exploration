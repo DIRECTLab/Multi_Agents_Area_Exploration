{
 "cells": [
  {
   "cell_type": "code",
   "execution_count": 1,
   "metadata": {},
   "outputs": [],
   "source": [
    "import pandas as pd\n",
    "import numpy as np\n",
    "import os\n",
    "\n",
    "import matplotlib.pyplot as plt\n",
    "import seaborn as sns"
   ]
  },
  {
   "cell_type": "code",
   "execution_count": 2,
   "metadata": {},
   "outputs": [],
   "source": [
    "# sns.set_theme(style=\"darkgrid\")\n",
    "# sns.set(rc={'figure.figsize':(11.7,8.27)})\n",
    "# get the color palette\n",
    "\n",
    "palette = sns.color_palette()"
   ]
  },
  {
   "cell_type": "code",
   "execution_count": 3,
   "metadata": {},
   "outputs": [
    {
     "data": {
      "text/html": [
       "<svg  width=\"550\" height=\"55\"><rect x=\"0\" y=\"0\" width=\"55\" height=\"55\" style=\"fill:#1f77b4;stroke-width:2;stroke:rgb(255,255,255)\"/><rect x=\"55\" y=\"0\" width=\"55\" height=\"55\" style=\"fill:#ff7f0e;stroke-width:2;stroke:rgb(255,255,255)\"/><rect x=\"110\" y=\"0\" width=\"55\" height=\"55\" style=\"fill:#2ca02c;stroke-width:2;stroke:rgb(255,255,255)\"/><rect x=\"165\" y=\"0\" width=\"55\" height=\"55\" style=\"fill:#d62728;stroke-width:2;stroke:rgb(255,255,255)\"/><rect x=\"220\" y=\"0\" width=\"55\" height=\"55\" style=\"fill:#9467bd;stroke-width:2;stroke:rgb(255,255,255)\"/><rect x=\"275\" y=\"0\" width=\"55\" height=\"55\" style=\"fill:#8c564b;stroke-width:2;stroke:rgb(255,255,255)\"/><rect x=\"330\" y=\"0\" width=\"55\" height=\"55\" style=\"fill:#e377c2;stroke-width:2;stroke:rgb(255,255,255)\"/><rect x=\"385\" y=\"0\" width=\"55\" height=\"55\" style=\"fill:#7f7f7f;stroke-width:2;stroke:rgb(255,255,255)\"/><rect x=\"440\" y=\"0\" width=\"55\" height=\"55\" style=\"fill:#bcbd22;stroke-width:2;stroke:rgb(255,255,255)\"/><rect x=\"495\" y=\"0\" width=\"55\" height=\"55\" style=\"fill:#17becf;stroke-width:2;stroke:rgb(255,255,255)\"/></svg>"
      ],
      "text/plain": [
       "[(0.12156862745098039, 0.4666666666666667, 0.7058823529411765),\n",
       " (1.0, 0.4980392156862745, 0.054901960784313725),\n",
       " (0.17254901960784313, 0.6274509803921569, 0.17254901960784313),\n",
       " (0.8392156862745098, 0.15294117647058825, 0.1568627450980392),\n",
       " (0.5803921568627451, 0.403921568627451, 0.7411764705882353),\n",
       " (0.5490196078431373, 0.33725490196078434, 0.29411764705882354),\n",
       " (0.8901960784313725, 0.4666666666666667, 0.7607843137254902),\n",
       " (0.4980392156862745, 0.4980392156862745, 0.4980392156862745),\n",
       " (0.7372549019607844, 0.7411764705882353, 0.13333333333333333),\n",
       " (0.09019607843137255, 0.7450980392156863, 0.8117647058823529)]"
      ]
     },
     "execution_count": 3,
     "metadata": {},
     "output_type": "execute_result"
    }
   ],
   "source": [
    "sns.set_palette(palette)\n",
    "palette"
   ]
  },
  {
   "cell_type": "code",
   "execution_count": 4,
   "metadata": {},
   "outputs": [
    {
     "name": "stdout",
     "output_type": "stream",
     "text": [
      "/Users/cta/Documents/GitHub/Multi_Agents_Area_Exploration/analysing_data/chris_plots\n"
     ]
    }
   ],
   "source": [
    "# print Working Directory\n",
    "print(os.getcwd())"
   ]
  },
  {
   "cell_type": "code",
   "execution_count": 5,
   "metadata": {},
   "outputs": [],
   "source": [
    "# check the data for NaN values or other errors\n",
    "df_all = pd.read_csv(f\"../../data_save/all_data.csv\")\n",
    "# # data_save/all_data_map-len30.csv\n",
    "# df_all = pd.read_csv(f\"{root_directory}/data_save/all_data_map-len30.csv\")\n"
   ]
  },
  {
   "cell_type": "code",
   "execution_count": 6,
   "metadata": {},
   "outputs": [],
   "source": [
    "pd.options.display.max_columns = 500 # this will set limit of columns to 500"
   ]
  },
  {
   "cell_type": "code",
   "execution_count": 7,
   "metadata": {},
   "outputs": [
    {
     "name": "stdout",
     "output_type": "stream",
     "text": [
      "/Users/cta/Documents/GitHub/Multi_Agents_Area_Exploration/analysing_data/plots\n"
     ]
    }
   ],
   "source": [
    "# check cwd if it plots\n",
    "if 'analysing_data/plots' in os.getcwd():\n",
    "    print(\"cwd is correct\")\n",
    "\n",
    "else:\n",
    "\n",
    "    # moove to the plots folder\n",
    "    #\n",
    "    os.chdir(\"../../analysing_data/plots\")\n",
    "    print(os.getcwd())\n",
    "\n",
    "cwd = os.getcwd()"
   ]
  },
  {
   "cell_type": "code",
   "execution_count": 8,
   "metadata": {},
   "outputs": [
    {
     "data": {
      "text/plain": [
       "(25342111, 40)"
      ]
     },
     "execution_count": 8,
     "metadata": {},
     "output_type": "execute_result"
    }
   ],
   "source": [
    "df_all.shape"
   ]
  },
  {
   "cell_type": "code",
   "execution_count": 9,
   "metadata": {},
   "outputs": [
    {
     "data": {
      "text/plain": [
       "(25342111, 28)"
      ]
     },
     "execution_count": 9,
     "metadata": {},
     "output_type": "execute_result"
    }
   ],
   "source": [
    "# drop all columns with NaN values\n",
    "df_all = df_all.dropna(axis=1)\n",
    "df_all.shape"
   ]
  },
  {
   "cell_type": "code",
   "execution_count": 10,
   "metadata": {},
   "outputs": [],
   "source": [
    "df_all['method'] = df_all['method'].astype('category')\n",
    "df_all['method'] = df_all['method'].apply(lambda x: x.replace('_', ' ').title())\n",
    "\n",
    "# remove all _ from the column names\n",
    "df_all.columns = df_all.columns.str.replace('_', ' ')\n",
    "# make all the columns tital like\n",
    "df_all.columns = df_all.columns.str.title()\n",
    "\n"
   ]
  },
  {
   "cell_type": "code",
   "execution_count": 11,
   "metadata": {},
   "outputs": [
    {
     "data": {
      "text/html": [
       "<div>\n",
       "<style scoped>\n",
       "    .dataframe tbody tr th:only-of-type {\n",
       "        vertical-align: middle;\n",
       "    }\n",
       "\n",
       "    .dataframe tbody tr th {\n",
       "        vertical-align: top;\n",
       "    }\n",
       "\n",
       "    .dataframe thead th {\n",
       "        text-align: right;\n",
       "    }\n",
       "</style>\n",
       "<table border=\"1\" class=\"dataframe\">\n",
       "  <thead>\n",
       "    <tr style=\"text-align: right;\">\n",
       "      <th></th>\n",
       "      <th>Unnamed: 0</th>\n",
       "      <th>Area Percent</th>\n",
       "      <th>Update Time</th>\n",
       "      <th>Delta Time</th>\n",
       "      <th>Plan Length</th>\n",
       "      <th>Replan Count</th>\n",
       "      <th>Logging Time</th>\n",
       "      <th>Frame Count</th>\n",
       "      <th>Known Area</th>\n",
       "      <th>Total Distance Travelled</th>\n",
       "      <th>Seed</th>\n",
       "      <th>N Bots</th>\n",
       "      <th>Grid Thickness</th>\n",
       "      <th>Cols</th>\n",
       "      <th>Rows</th>\n",
       "      <th>Room Area</th>\n",
       "      <th>Min Room Size</th>\n",
       "      <th>Max Room Size</th>\n",
       "      <th>Wall Ratio</th>\n",
       "      <th>Experiment Id</th>\n",
       "    </tr>\n",
       "  </thead>\n",
       "  <tbody>\n",
       "    <tr>\n",
       "      <th>count</th>\n",
       "      <td>2.534211e+07</td>\n",
       "      <td>2.534211e+07</td>\n",
       "      <td>2.534211e+07</td>\n",
       "      <td>2.534211e+07</td>\n",
       "      <td>2.534211e+07</td>\n",
       "      <td>2.534211e+07</td>\n",
       "      <td>2.534211e+07</td>\n",
       "      <td>2.534211e+07</td>\n",
       "      <td>2.534211e+07</td>\n",
       "      <td>2.534211e+07</td>\n",
       "      <td>2.534211e+07</td>\n",
       "      <td>2.534211e+07</td>\n",
       "      <td>25342111.0</td>\n",
       "      <td>25342111.0</td>\n",
       "      <td>25342111.0</td>\n",
       "      <td>25342111.0</td>\n",
       "      <td>2.534211e+07</td>\n",
       "      <td>25342111.0</td>\n",
       "      <td>2.534211e+07</td>\n",
       "      <td>2.534211e+07</td>\n",
       "    </tr>\n",
       "    <tr>\n",
       "      <th>mean</th>\n",
       "      <td>9.292248e+01</td>\n",
       "      <td>8.370077e-01</td>\n",
       "      <td>1.103849e-01</td>\n",
       "      <td>7.399697e+00</td>\n",
       "      <td>1.539867e+02</td>\n",
       "      <td>1.217252e+02</td>\n",
       "      <td>2.187371e-04</td>\n",
       "      <td>9.292248e+01</td>\n",
       "      <td>2.092519e+03</td>\n",
       "      <td>5.284630e+02</td>\n",
       "      <td>6.451129e+01</td>\n",
       "      <td>6.857582e+00</td>\n",
       "      <td>10.0</td>\n",
       "      <td>50.0</td>\n",
       "      <td>50.0</td>\n",
       "      <td>2500.0</td>\n",
       "      <td>1.070058e+01</td>\n",
       "      <td>20.0</td>\n",
       "      <td>1.778716e-01</td>\n",
       "      <td>9.479256e+04</td>\n",
       "    </tr>\n",
       "    <tr>\n",
       "      <th>std</th>\n",
       "      <td>8.945901e+01</td>\n",
       "      <td>2.093398e-01</td>\n",
       "      <td>1.546462e-01</td>\n",
       "      <td>6.289243e+00</td>\n",
       "      <td>1.017077e+02</td>\n",
       "      <td>1.076844e+02</td>\n",
       "      <td>1.462712e-03</td>\n",
       "      <td>8.945901e+01</td>\n",
       "      <td>5.233495e+02</td>\n",
       "      <td>4.323983e+02</td>\n",
       "      <td>8.622179e+00</td>\n",
       "      <td>3.183241e+00</td>\n",
       "      <td>0.0</td>\n",
       "      <td>0.0</td>\n",
       "      <td>0.0</td>\n",
       "      <td>0.0</td>\n",
       "      <td>6.548513e+00</td>\n",
       "      <td>0.0</td>\n",
       "      <td>7.523423e-02</td>\n",
       "      <td>5.789241e+04</td>\n",
       "    </tr>\n",
       "    <tr>\n",
       "      <th>min</th>\n",
       "      <td>0.000000e+00</td>\n",
       "      <td>6.440000e-02</td>\n",
       "      <td>0.000000e+00</td>\n",
       "      <td>1.000000e-02</td>\n",
       "      <td>0.000000e+00</td>\n",
       "      <td>4.000000e+00</td>\n",
       "      <td>0.000000e+00</td>\n",
       "      <td>0.000000e+00</td>\n",
       "      <td>1.610000e+02</td>\n",
       "      <td>2.000000e+00</td>\n",
       "      <td>5.000000e+01</td>\n",
       "      <td>4.000000e+00</td>\n",
       "      <td>10.0</td>\n",
       "      <td>50.0</td>\n",
       "      <td>50.0</td>\n",
       "      <td>2500.0</td>\n",
       "      <td>4.000000e+00</td>\n",
       "      <td>20.0</td>\n",
       "      <td>9.680000e-02</td>\n",
       "      <td>0.000000e+00</td>\n",
       "    </tr>\n",
       "    <tr>\n",
       "      <th>25%</th>\n",
       "      <td>3.200000e+01</td>\n",
       "      <td>7.568000e-01</td>\n",
       "      <td>4.000000e-02</td>\n",
       "      <td>3.040000e+00</td>\n",
       "      <td>7.900000e+01</td>\n",
       "      <td>5.500000e+01</td>\n",
       "      <td>0.000000e+00</td>\n",
       "      <td>3.200000e+01</td>\n",
       "      <td>1.892000e+03</td>\n",
       "      <td>2.172376e+02</td>\n",
       "      <td>5.700000e+01</td>\n",
       "      <td>4.000000e+00</td>\n",
       "      <td>10.0</td>\n",
       "      <td>50.0</td>\n",
       "      <td>50.0</td>\n",
       "      <td>2500.0</td>\n",
       "      <td>4.000000e+00</td>\n",
       "      <td>20.0</td>\n",
       "      <td>9.680000e-02</td>\n",
       "      <td>4.321400e+04</td>\n",
       "    </tr>\n",
       "    <tr>\n",
       "      <th>50%</th>\n",
       "      <td>7.000000e+01</td>\n",
       "      <td>9.316000e-01</td>\n",
       "      <td>6.000000e-02</td>\n",
       "      <td>6.060000e+00</td>\n",
       "      <td>1.250000e+02</td>\n",
       "      <td>9.600000e+01</td>\n",
       "      <td>0.000000e+00</td>\n",
       "      <td>7.000000e+01</td>\n",
       "      <td>2.329000e+03</td>\n",
       "      <td>4.234924e+02</td>\n",
       "      <td>6.500000e+01</td>\n",
       "      <td>4.000000e+00</td>\n",
       "      <td>10.0</td>\n",
       "      <td>50.0</td>\n",
       "      <td>50.0</td>\n",
       "      <td>2500.0</td>\n",
       "      <td>1.200000e+01</td>\n",
       "      <td>20.0</td>\n",
       "      <td>1.336000e-01</td>\n",
       "      <td>8.762500e+04</td>\n",
       "    </tr>\n",
       "    <tr>\n",
       "      <th>75%</th>\n",
       "      <td>1.280000e+02</td>\n",
       "      <td>9.924000e-01</td>\n",
       "      <td>1.300000e-01</td>\n",
       "      <td>1.012000e+01</td>\n",
       "      <td>2.070000e+02</td>\n",
       "      <td>1.550000e+02</td>\n",
       "      <td>0.000000e+00</td>\n",
       "      <td>1.280000e+02</td>\n",
       "      <td>2.481000e+03</td>\n",
       "      <td>7.211270e+02</td>\n",
       "      <td>7.200000e+01</td>\n",
       "      <td>8.000000e+00</td>\n",
       "      <td>10.0</td>\n",
       "      <td>50.0</td>\n",
       "      <td>50.0</td>\n",
       "      <td>2500.0</td>\n",
       "      <td>2.000000e+01</td>\n",
       "      <td>20.0</td>\n",
       "      <td>2.624000e-01</td>\n",
       "      <td>1.445180e+05</td>\n",
       "    </tr>\n",
       "    <tr>\n",
       "      <th>max</th>\n",
       "      <td>2.499000e+03</td>\n",
       "      <td>1.000000e+00</td>\n",
       "      <td>4.960000e+00</td>\n",
       "      <td>2.631500e+02</td>\n",
       "      <td>1.282000e+03</td>\n",
       "      <td>4.838000e+03</td>\n",
       "      <td>1.000000e-02</td>\n",
       "      <td>2.499000e+03</td>\n",
       "      <td>2.500000e+03</td>\n",
       "      <td>6.943362e+03</td>\n",
       "      <td>7.900000e+01</td>\n",
       "      <td>1.200000e+01</td>\n",
       "      <td>10.0</td>\n",
       "      <td>50.0</td>\n",
       "      <td>50.0</td>\n",
       "      <td>2500.0</td>\n",
       "      <td>2.000000e+01</td>\n",
       "      <td>20.0</td>\n",
       "      <td>2.772000e-01</td>\n",
       "      <td>2.024990e+05</td>\n",
       "    </tr>\n",
       "  </tbody>\n",
       "</table>\n",
       "</div>"
      ],
      "text/plain": [
       "         Unnamed: 0  Area Percent   Update Time    Delta Time   Plan Length   \n",
       "count  2.534211e+07  2.534211e+07  2.534211e+07  2.534211e+07  2.534211e+07  \\\n",
       "mean   9.292248e+01  8.370077e-01  1.103849e-01  7.399697e+00  1.539867e+02   \n",
       "std    8.945901e+01  2.093398e-01  1.546462e-01  6.289243e+00  1.017077e+02   \n",
       "min    0.000000e+00  6.440000e-02  0.000000e+00  1.000000e-02  0.000000e+00   \n",
       "25%    3.200000e+01  7.568000e-01  4.000000e-02  3.040000e+00  7.900000e+01   \n",
       "50%    7.000000e+01  9.316000e-01  6.000000e-02  6.060000e+00  1.250000e+02   \n",
       "75%    1.280000e+02  9.924000e-01  1.300000e-01  1.012000e+01  2.070000e+02   \n",
       "max    2.499000e+03  1.000000e+00  4.960000e+00  2.631500e+02  1.282000e+03   \n",
       "\n",
       "       Replan Count  Logging Time   Frame Count    Known Area   \n",
       "count  2.534211e+07  2.534211e+07  2.534211e+07  2.534211e+07  \\\n",
       "mean   1.217252e+02  2.187371e-04  9.292248e+01  2.092519e+03   \n",
       "std    1.076844e+02  1.462712e-03  8.945901e+01  5.233495e+02   \n",
       "min    4.000000e+00  0.000000e+00  0.000000e+00  1.610000e+02   \n",
       "25%    5.500000e+01  0.000000e+00  3.200000e+01  1.892000e+03   \n",
       "50%    9.600000e+01  0.000000e+00  7.000000e+01  2.329000e+03   \n",
       "75%    1.550000e+02  0.000000e+00  1.280000e+02  2.481000e+03   \n",
       "max    4.838000e+03  1.000000e-02  2.499000e+03  2.500000e+03   \n",
       "\n",
       "       Total Distance Travelled          Seed        N Bots  Grid Thickness   \n",
       "count              2.534211e+07  2.534211e+07  2.534211e+07      25342111.0  \\\n",
       "mean               5.284630e+02  6.451129e+01  6.857582e+00            10.0   \n",
       "std                4.323983e+02  8.622179e+00  3.183241e+00             0.0   \n",
       "min                2.000000e+00  5.000000e+01  4.000000e+00            10.0   \n",
       "25%                2.172376e+02  5.700000e+01  4.000000e+00            10.0   \n",
       "50%                4.234924e+02  6.500000e+01  4.000000e+00            10.0   \n",
       "75%                7.211270e+02  7.200000e+01  8.000000e+00            10.0   \n",
       "max                6.943362e+03  7.900000e+01  1.200000e+01            10.0   \n",
       "\n",
       "             Cols        Rows   Room Area  Min Room Size  Max Room Size   \n",
       "count  25342111.0  25342111.0  25342111.0   2.534211e+07     25342111.0  \\\n",
       "mean         50.0        50.0      2500.0   1.070058e+01           20.0   \n",
       "std           0.0         0.0         0.0   6.548513e+00            0.0   \n",
       "min          50.0        50.0      2500.0   4.000000e+00           20.0   \n",
       "25%          50.0        50.0      2500.0   4.000000e+00           20.0   \n",
       "50%          50.0        50.0      2500.0   1.200000e+01           20.0   \n",
       "75%          50.0        50.0      2500.0   2.000000e+01           20.0   \n",
       "max          50.0        50.0      2500.0   2.000000e+01           20.0   \n",
       "\n",
       "         Wall Ratio  Experiment Id  \n",
       "count  2.534211e+07   2.534211e+07  \n",
       "mean   1.778716e-01   9.479256e+04  \n",
       "std    7.523423e-02   5.789241e+04  \n",
       "min    9.680000e-02   0.000000e+00  \n",
       "25%    9.680000e-02   4.321400e+04  \n",
       "50%    1.336000e-01   8.762500e+04  \n",
       "75%    2.624000e-01   1.445180e+05  \n",
       "max    2.772000e-01   2.024990e+05  "
      ]
     },
     "execution_count": 11,
     "metadata": {},
     "output_type": "execute_result"
    }
   ],
   "source": [
    "df_all.describe()\n"
   ]
  },
  {
   "cell_type": "code",
   "execution_count": 12,
   "metadata": {},
   "outputs": [
    {
     "name": "stdout",
     "output_type": "stream",
     "text": [
      "Logging Time\n",
      "Success\n",
      "Draw Sim\n",
      "Log Plots\n",
      "Use Threads\n",
      "N Bots\n",
      "Grid Thickness\n",
      "Cols\n",
      "Rows\n",
      "Room Area\n",
      "Min Room Size\n",
      "Max Room Size\n",
      "Method\n",
      "Start Scenario\n",
      "Goal Scenario\n",
      "Loss Type\n"
     ]
    }
   ],
   "source": [
    "# conver columns to category that have less than 10 unique values\n",
    "for col in df_all.columns:\n",
    "    if df_all[col].nunique() < 20:\n",
    "        df_all[col] = df_all[col].astype('category')\n",
    "\n",
    "# print all the cols that are category\n",
    "for col in df_all.columns:\n",
    "    if df_all[col].dtype.name == 'category':\n",
    "        print(col)\n",
    "        \n"
   ]
  },
  {
   "cell_type": "code",
   "execution_count": 13,
   "metadata": {},
   "outputs": [
    {
     "data": {
      "text/plain": [
       "Index(['Unnamed: 0', 'Area Percent', 'Update Time', 'Delta Time',\n",
       "       'Plan Length', 'Replan Count', 'Logging Time', 'Frame Count',\n",
       "       'Known Area', 'Total Distance Travelled', 'Success', 'Seed', 'Draw Sim',\n",
       "       'Log Plots', 'Use Threads', 'N Bots', 'Grid Thickness', 'Cols', 'Rows',\n",
       "       'Room Area', 'Min Room Size', 'Max Room Size', 'Wall Ratio', 'Method',\n",
       "       'Start Scenario', 'Goal Scenario', 'Experiment Id', 'Loss Type'],\n",
       "      dtype='object')"
      ]
     },
     "execution_count": 13,
     "metadata": {},
     "output_type": "execute_result"
    }
   ],
   "source": [
    "df_all.columns"
   ]
  },
  {
   "attachments": {},
   "cell_type": "markdown",
   "metadata": {},
   "source": [
    "df_all"
   ]
  },
  {
   "cell_type": "code",
   "execution_count": 14,
   "metadata": {},
   "outputs": [],
   "source": [
    "df_all['M'] = df_all['Method'].apply(lambda x: ''.join([str(i[0]) for i in x.split(' ')]))\n"
   ]
  },
  {
   "cell_type": "code",
   "execution_count": 15,
   "metadata": {},
   "outputs": [],
   "source": [
    "# # The average frame_count for each method\n",
    "# df_all.groupby(['Method']).max()['Frame Count', 'Delta Time'].sort_values().apply(lambda x: ','+str(int(x))).to_frame()"
   ]
  },
  {
   "cell_type": "code",
   "execution_count": 16,
   "metadata": {},
   "outputs": [],
   "source": [
    "# rename the columns Total Distance Travelled to Distance Traveled\n",
    "df_all = df_all.rename(columns={'Total Distance Travelled': 'Distance Traveled'})"
   ]
  },
  {
   "cell_type": "code",
   "execution_count": 17,
   "metadata": {},
   "outputs": [
    {
     "data": {
      "text/html": [
       "<div>\n",
       "<style scoped>\n",
       "    .dataframe tbody tr th:only-of-type {\n",
       "        vertical-align: middle;\n",
       "    }\n",
       "\n",
       "    .dataframe tbody tr th {\n",
       "        vertical-align: top;\n",
       "    }\n",
       "\n",
       "    .dataframe thead th {\n",
       "        text-align: right;\n",
       "    }\n",
       "</style>\n",
       "<table border=\"1\" class=\"dataframe\">\n",
       "  <thead>\n",
       "    <tr style=\"text-align: right;\">\n",
       "      <th></th>\n",
       "      <th>Unnamed: 0</th>\n",
       "      <th>Area Percent</th>\n",
       "      <th>Update Time</th>\n",
       "      <th>Delta Time</th>\n",
       "      <th>Plan Length</th>\n",
       "      <th>Replan Count</th>\n",
       "      <th>Logging Time</th>\n",
       "      <th>Frame Count</th>\n",
       "      <th>Known Area</th>\n",
       "      <th>Distance Traveled</th>\n",
       "      <th>Success</th>\n",
       "      <th>Seed</th>\n",
       "      <th>Draw Sim</th>\n",
       "      <th>Log Plots</th>\n",
       "      <th>Use Threads</th>\n",
       "      <th>N Bots</th>\n",
       "      <th>Grid Thickness</th>\n",
       "      <th>Cols</th>\n",
       "      <th>Rows</th>\n",
       "      <th>Room Area</th>\n",
       "      <th>Min Room Size</th>\n",
       "      <th>Max Room Size</th>\n",
       "      <th>Wall Ratio</th>\n",
       "      <th>Method</th>\n",
       "      <th>Start Scenario</th>\n",
       "      <th>Goal Scenario</th>\n",
       "      <th>Experiment Id</th>\n",
       "      <th>Loss Type</th>\n",
       "      <th>M</th>\n",
       "    </tr>\n",
       "  </thead>\n",
       "  <tbody>\n",
       "    <tr>\n",
       "      <th>18318338</th>\n",
       "      <td>224</td>\n",
       "      <td>1.0</td>\n",
       "      <td>0.48</td>\n",
       "      <td>12.86</td>\n",
       "      <td>0</td>\n",
       "      <td>267</td>\n",
       "      <td>0.00</td>\n",
       "      <td>224</td>\n",
       "      <td>2500</td>\n",
       "      <td>1008.666089</td>\n",
       "      <td>True</td>\n",
       "      <td>50</td>\n",
       "      <td>False</td>\n",
       "      <td>True</td>\n",
       "      <td>False</td>\n",
       "      <td>4</td>\n",
       "      <td>10</td>\n",
       "      <td>50</td>\n",
       "      <td>50</td>\n",
       "      <td>2500</td>\n",
       "      <td>4.0</td>\n",
       "      <td>20.0</td>\n",
       "      <td>0.2696</td>\n",
       "      <td>Unknown Closest</td>\n",
       "      <td>start-Rand_Start</td>\n",
       "      <td>goal-Rand_Start</td>\n",
       "      <td>0</td>\n",
       "      <td>Agent</td>\n",
       "      <td>UC</td>\n",
       "    </tr>\n",
       "    <tr>\n",
       "      <th>24992983</th>\n",
       "      <td>129</td>\n",
       "      <td>1.0</td>\n",
       "      <td>0.21</td>\n",
       "      <td>14.07</td>\n",
       "      <td>57</td>\n",
       "      <td>200</td>\n",
       "      <td>0.00</td>\n",
       "      <td>129</td>\n",
       "      <td>2500</td>\n",
       "      <td>584.031529</td>\n",
       "      <td>True</td>\n",
       "      <td>50</td>\n",
       "      <td>False</td>\n",
       "      <td>True</td>\n",
       "      <td>False</td>\n",
       "      <td>4</td>\n",
       "      <td>10</td>\n",
       "      <td>50</td>\n",
       "      <td>50</td>\n",
       "      <td>2500</td>\n",
       "      <td>12.0</td>\n",
       "      <td>20.0</td>\n",
       "      <td>0.1308</td>\n",
       "      <td>Unknown Closest</td>\n",
       "      <td>start-Rand_Start</td>\n",
       "      <td>goal-Rand_Start</td>\n",
       "      <td>1</td>\n",
       "      <td>Agent</td>\n",
       "      <td>UC</td>\n",
       "    </tr>\n",
       "    <tr>\n",
       "      <th>7855247</th>\n",
       "      <td>116</td>\n",
       "      <td>1.0</td>\n",
       "      <td>0.13</td>\n",
       "      <td>14.24</td>\n",
       "      <td>33</td>\n",
       "      <td>240</td>\n",
       "      <td>0.00</td>\n",
       "      <td>116</td>\n",
       "      <td>2500</td>\n",
       "      <td>538.658946</td>\n",
       "      <td>True</td>\n",
       "      <td>50</td>\n",
       "      <td>False</td>\n",
       "      <td>True</td>\n",
       "      <td>False</td>\n",
       "      <td>4</td>\n",
       "      <td>10</td>\n",
       "      <td>50</td>\n",
       "      <td>50</td>\n",
       "      <td>2500</td>\n",
       "      <td>20.0</td>\n",
       "      <td>20.0</td>\n",
       "      <td>0.0968</td>\n",
       "      <td>Unknown Closest</td>\n",
       "      <td>start-Rand_Start</td>\n",
       "      <td>goal-Rand_Start</td>\n",
       "      <td>2</td>\n",
       "      <td>Agent</td>\n",
       "      <td>UC</td>\n",
       "    </tr>\n",
       "    <tr>\n",
       "      <th>23175780</th>\n",
       "      <td>117</td>\n",
       "      <td>1.0</td>\n",
       "      <td>0.45</td>\n",
       "      <td>9.88</td>\n",
       "      <td>0</td>\n",
       "      <td>234</td>\n",
       "      <td>0.01</td>\n",
       "      <td>117</td>\n",
       "      <td>2500</td>\n",
       "      <td>553.327994</td>\n",
       "      <td>True</td>\n",
       "      <td>51</td>\n",
       "      <td>False</td>\n",
       "      <td>True</td>\n",
       "      <td>False</td>\n",
       "      <td>4</td>\n",
       "      <td>10</td>\n",
       "      <td>50</td>\n",
       "      <td>50</td>\n",
       "      <td>2500</td>\n",
       "      <td>4.0</td>\n",
       "      <td>20.0</td>\n",
       "      <td>0.2652</td>\n",
       "      <td>Unknown Closest</td>\n",
       "      <td>start-Rand_Start</td>\n",
       "      <td>goal-Rand_Start</td>\n",
       "      <td>3</td>\n",
       "      <td>Agent</td>\n",
       "      <td>UC</td>\n",
       "    </tr>\n",
       "    <tr>\n",
       "      <th>17936765</th>\n",
       "      <td>83</td>\n",
       "      <td>1.0</td>\n",
       "      <td>0.66</td>\n",
       "      <td>10.76</td>\n",
       "      <td>0</td>\n",
       "      <td>168</td>\n",
       "      <td>0.00</td>\n",
       "      <td>83</td>\n",
       "      <td>2500</td>\n",
       "      <td>377.149278</td>\n",
       "      <td>True</td>\n",
       "      <td>51</td>\n",
       "      <td>False</td>\n",
       "      <td>True</td>\n",
       "      <td>False</td>\n",
       "      <td>4</td>\n",
       "      <td>10</td>\n",
       "      <td>50</td>\n",
       "      <td>50</td>\n",
       "      <td>2500</td>\n",
       "      <td>12.0</td>\n",
       "      <td>20.0</td>\n",
       "      <td>0.1300</td>\n",
       "      <td>Unknown Closest</td>\n",
       "      <td>start-Rand_Start</td>\n",
       "      <td>goal-Rand_Start</td>\n",
       "      <td>4</td>\n",
       "      <td>Agent</td>\n",
       "      <td>UC</td>\n",
       "    </tr>\n",
       "  </tbody>\n",
       "</table>\n",
       "</div>"
      ],
      "text/plain": [
       "          Unnamed: 0  Area Percent  Update Time  Delta Time  Plan Length   \n",
       "18318338         224           1.0         0.48       12.86            0  \\\n",
       "24992983         129           1.0         0.21       14.07           57   \n",
       "7855247          116           1.0         0.13       14.24           33   \n",
       "23175780         117           1.0         0.45        9.88            0   \n",
       "17936765          83           1.0         0.66       10.76            0   \n",
       "\n",
       "          Replan Count Logging Time  Frame Count  Known Area   \n",
       "18318338           267         0.00          224        2500  \\\n",
       "24992983           200         0.00          129        2500   \n",
       "7855247            240         0.00          116        2500   \n",
       "23175780           234         0.01          117        2500   \n",
       "17936765           168         0.00           83        2500   \n",
       "\n",
       "          Distance Traveled Success  Seed Draw Sim Log Plots Use Threads   \n",
       "18318338        1008.666089    True    50    False      True       False  \\\n",
       "24992983         584.031529    True    50    False      True       False   \n",
       "7855247          538.658946    True    50    False      True       False   \n",
       "23175780         553.327994    True    51    False      True       False   \n",
       "17936765         377.149278    True    51    False      True       False   \n",
       "\n",
       "         N Bots Grid Thickness Cols Rows Room Area Min Room Size   \n",
       "18318338      4             10   50   50      2500           4.0  \\\n",
       "24992983      4             10   50   50      2500          12.0   \n",
       "7855247       4             10   50   50      2500          20.0   \n",
       "23175780      4             10   50   50      2500           4.0   \n",
       "17936765      4             10   50   50      2500          12.0   \n",
       "\n",
       "         Max Room Size  Wall Ratio           Method    Start Scenario   \n",
       "18318338          20.0      0.2696  Unknown Closest  start-Rand_Start  \\\n",
       "24992983          20.0      0.1308  Unknown Closest  start-Rand_Start   \n",
       "7855247           20.0      0.0968  Unknown Closest  start-Rand_Start   \n",
       "23175780          20.0      0.2652  Unknown Closest  start-Rand_Start   \n",
       "17936765          20.0      0.1300  Unknown Closest  start-Rand_Start   \n",
       "\n",
       "            Goal Scenario  Experiment Id Loss Type   M  \n",
       "18318338  goal-Rand_Start              0     Agent  UC  \n",
       "24992983  goal-Rand_Start              1     Agent  UC  \n",
       "7855247   goal-Rand_Start              2     Agent  UC  \n",
       "23175780  goal-Rand_Start              3     Agent  UC  \n",
       "17936765  goal-Rand_Start              4     Agent  UC  "
      ]
     },
     "execution_count": 17,
     "metadata": {},
     "output_type": "execute_result"
    }
   ],
   "source": [
    "df_end = df_all.drop_duplicates(subset=['Experiment Id'], keep='last').sort_values(by=['Experiment Id'])\n",
    "# create an actanom column for the methods that takse the 1st letter of the method of each method\n",
    "df_end['M'] = df_end['Method'].apply(lambda x: ''.join([str(i[0]) for i in x.split(' ')]))\n",
    "df_end['M'] \n",
    "df_end.head()\n"
   ]
  },
  {
   "cell_type": "code",
   "execution_count": 18,
   "metadata": {},
   "outputs": [
    {
     "data": {
      "text/plain": [
       "2500"
      ]
     },
     "execution_count": 18,
     "metadata": {},
     "output_type": "execute_result"
    }
   ],
   "source": [
    "Area_max = df_all['Rows'].iloc[0] * df_all['Cols'].iloc[0]\n",
    "Area_max"
   ]
  },
  {
   "cell_type": "code",
   "execution_count": 19,
   "metadata": {},
   "outputs": [
    {
     "data": {
      "text/plain": [
       "count    2.534211e+07\n",
       "mean     1.493172e+01\n",
       "std      3.913681e+01\n",
       "min      3.600561e-01\n",
       "25%      3.466796e+00\n",
       "50%      5.903293e+00\n",
       "75%      1.150814e+01\n",
       "max      1.250000e+03\n",
       "Name: Quality, dtype: float64"
      ]
     },
     "execution_count": 19,
     "metadata": {},
     "output_type": "execute_result"
    }
   ],
   "source": [
    "# calculate Quality df_all for each all the data\n",
    "# Quality = Area_max/Total Distance Traveled\n",
    "df_all['Quality'] = Area_max/df_all['Distance Traveled']\n",
    "df_all['Quality'].describe()"
   ]
  },
  {
   "cell_type": "code",
   "execution_count": 20,
   "metadata": {},
   "outputs": [
    {
     "data": {
      "image/png": "[encoded data removed]",
      "text/plain": [
       "<Figure size 640x480 with 1 Axes>"
      ]
     },
     "metadata": {},
     "output_type": "display_data"
    }
   ],
   "source": [
    "\n",
    "# df_end_success = df_end_success.replace(to_replace=\"Goal Scenario\", value=\"Helloooo\")\n",
    "grd = sns.boxplot(\n",
    "    \n",
    "    data=df_all, \n",
    "    y=\"Quality\", x=\"Loss Type\", hue=\"M\", \n",
    "    # col_wrap=3,\n",
    "    # col=\"Min Room Size\",\n",
    "    # kind=\"box\", \n",
    "    # bw=.25, cut=0, \n",
    "    # flierprops={\"marker\": \".\"},\n",
    "    showfliers=False,\n",
    "\n",
    "    # linewidth=0.9,\n",
    "    # height=4,\n",
    "    # aspect=1.5\n",
    ")\n",
    "grd.legend(bbox_to_anchor=(1.02, 1), loc='upper left', borderaxespad=0, title='Strategies')\n",
    "\n",
    "\n",
    "plt.savefig(f\"{cwd}/Quality.png\", dpi=300, bbox_inches='tight')"
   ]
  },
  {
   "cell_type": "code",
   "execution_count": 21,
   "metadata": {},
   "outputs": [
    {
     "data": {
      "image/png": "[encoded data removed]",
      "text/plain": [
       "<Figure size 640x480 with 1 Axes>"
      ]
     },
     "metadata": {},
     "output_type": "display_data"
    }
   ],
   "source": [
    "# set color palette\n",
    "sns.set_palette(palette=\"Set1\")\n",
    "\n",
    "\n",
    "# Sort the x-axis data based on \"Quality\"\n",
    "sorted_x_data = df_all.groupby(\"M\")[\"Quality\"].median().sort_values().index\n",
    "\n",
    "grd = sns.boxplot(\n",
    "    data=df_all, \n",
    "    y=\"Quality\", \n",
    "    hue=\"Loss Type\", \n",
    "    x=\"M\", \n",
    "    order=sorted_x_data,  # Specify the sorted x-axis data\n",
    "    showfliers=False,\n",
    "    # alpha=.8,\n",
    ")\n",
    "\n",
    "# grd.legend(bbox_to_anchor=(1.02, 1), loc='upper left', borderaxespad=0, title='Loss Types')\n",
    "grd.set_xticklabels(grd.get_xticklabels(), rotation=45, horizontalalignment='right')\n",
    "\n",
    "# rename the x axis \n",
    "grd.set(xlabel='Methods')\n",
    "\n",
    "plt.savefig(f\"{cwd}/quality.png\", dpi=300, bbox_inches='tight')\n",
    "plt.show()  # Optionally display the plot\n"
   ]
  },
  {
   "cell_type": "code",
   "execution_count": null,
   "metadata": {},
   "outputs": [],
   "source": []
  },
  {
   "cell_type": "code",
   "execution_count": null,
   "metadata": {},
   "outputs": [],
   "source": []
  },
  {
   "cell_type": "code",
   "execution_count": null,
   "metadata": {},
   "outputs": [],
   "source": []
  },
  {
   "cell_type": "code",
   "execution_count": null,
   "metadata": {},
   "outputs": [],
   "source": []
  },
  {
   "cell_type": "code",
   "execution_count": null,
   "metadata": {},
   "outputs": [],
   "source": []
  }
 ],
 "metadata": {
  "kernelspec": {
   "display_name": "tensorflow",
   "language": "python",
   "name": "python3"
  },
  "language_info": {
   "codemirror_mode": {
    "name": "ipython",
    "version": 3
   },
   "file_extension": ".py",
   "mimetype": "text/x-python",
   "name": "python",
   "nbconvert_exporter": "python",
   "pygments_lexer": "ipython3",
   "version": "3.9.16"
  },
  "orig_nbformat": 4
 },
 "nbformat": 4,
 "nbformat_minor": 2
}
