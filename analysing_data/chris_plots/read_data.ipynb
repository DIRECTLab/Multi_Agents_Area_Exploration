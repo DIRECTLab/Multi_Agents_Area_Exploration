{
 "cells": [
  {
   "cell_type": "code",
   "execution_count": null,
   "metadata": {},
   "outputs": [],
   "source": [
    "import pandas as pd\n",
    "import numpy as np\n",
    "import os\n",
    "\n",
    "import matplotlib.pyplot as plt\n",
    "import seaborn as sns"
   ]
  },
  {
   "cell_type": "code",
   "execution_count": null,
   "metadata": {},
   "outputs": [],
   "source": [
    "cwd = os.getcwd()\n",
    "root_directory = os.path.dirname(os.getcwd())"
   ]
  },
  {
   "cell_type": "code",
   "execution_count": null,
   "metadata": {},
   "outputs": [],
   "source": [
    "df_all = pd.read_csv(f\"{root_directory}/../data_save/all_data.csv\")\n",
    "# drop all columns with NaN values\n",
    "df_all = df_all.dropna(axis=1)\n",
    "df_all.shape"
   ]
  },
  {
   "cell_type": "code",
   "execution_count": null,
   "metadata": {},
   "outputs": [],
   "source": [
    "df_all.shape"
   ]
  },
  {
   "cell_type": "code",
   "execution_count": null,
   "metadata": {},
   "outputs": [],
   "source": [
    "df_all['method'] = df_all['method'].astype('category')\n",
    "df_all['method'] = df_all['method'].apply(lambda x: x.replace('_', ' ').title())\n",
    "\n",
    "# remove all _ from the column names\n",
    "df_all.columns = df_all.columns.str.replace('_', ' ')\n",
    "# make all the columns tital like\n",
    "df_all.columns = df_all.columns.str.title()\n",
    "\n"
   ]
  },
  {
   "cell_type": "code",
   "execution_count": null,
   "metadata": {},
   "outputs": [],
   "source": [
    "df_all[df_all['Method']=='Unknown Random']\n"
   ]
  },
  {
   "cell_type": "code",
   "execution_count": null,
   "metadata": {},
   "outputs": [],
   "source": [
    "df_all['Method']"
   ]
  },
  {
   "cell_type": "code",
   "execution_count": null,
   "metadata": {},
   "outputs": [],
   "source": [
    "df_all['M'] = df_all['Method'].apply(lambda x: ''.join([str(i[0])+'.' for i in x.split(' ')]))\n",
    "df_all['M'] "
   ]
  },
  {
   "cell_type": "code",
   "execution_count": null,
   "metadata": {},
   "outputs": [],
   "source": [
    "df_all[df_all['M']=='U.R.']\n"
   ]
  },
  {
   "cell_type": "code",
   "execution_count": null,
   "metadata": {},
   "outputs": [],
   "source": [
    "for col in df_all.columns:\n",
    "    if df_all[col].nunique() < 20:\n",
    "        df_all[col] = df_all[col].astype('category')"
   ]
  },
  {
   "cell_type": "code",
   "execution_count": null,
   "metadata": {},
   "outputs": [],
   "source": [
    "df_all.columns"
   ]
  },
  {
   "cell_type": "code",
   "execution_count": null,
   "metadata": {},
   "outputs": [],
   "source": [
    "# df_all.groupby('method').get_group('Frontier_Random')['delta_time'].hist()\n",
    "# df_all.groupby('method').get_group('Epsilon_Greedy_Frontier')['delta_time'].hist()\n",
    "\n",
    "# sns hist of delta_time\n",
    "# sns.histplot(data=df_all_no_epsilon, x=\"delta_time\", hue=\"method\", bins=100)\n",
    "\n"
   ]
  },
  {
   "cell_type": "code",
   "execution_count": null,
   "metadata": {},
   "outputs": [],
   "source": [
    "# gr = df_all.groupby(['Method']).get_group('Epsilon Greedy Frontier').groupby(['Experiment Id'])\n",
    "# gr.sample(100)"
   ]
  },
  {
   "cell_type": "code",
   "execution_count": null,
   "metadata": {},
   "outputs": [],
   "source": [
    "# gr[['Frame Count','Area Percent']]"
   ]
  },
  {
   "cell_type": "code",
   "execution_count": null,
   "metadata": {},
   "outputs": [],
   "source": [
    "sns.lineplot(data=df_all[df_all=='Unknown Random'],\n",
    "        x=\"Frame Count\", y='Area Percent', hue=\"Experiment Id\")"
   ]
  },
  {
   "cell_type": "code",
   "execution_count": null,
   "metadata": {},
   "outputs": [],
   "source": [
    "df_all['Method']"
   ]
  },
  {
   "cell_type": "code",
   "execution_count": null,
   "metadata": {},
   "outputs": [],
   "source": []
  },
  {
   "cell_type": "code",
   "execution_count": null,
   "metadata": {},
   "outputs": [],
   "source": [
    "# check cwd if it plots\n",
    "if 'analysing_data/plots' in os.getcwd():\n",
    "    print(\"cwd is correct\")\n",
    "\n",
    "else:\n",
    "\n",
    "    # moove to the plots folder\n",
    "    #\n",
    "    os.chdir(\"../../analysing_data/plots\")\n",
    "    print(os.getcwd())\n",
    "\n",
    "cwd = os.getcwd()"
   ]
  },
  {
   "cell_type": "code",
   "execution_count": null,
   "metadata": {},
   "outputs": [],
   "source": [
    "# create a unique marker for each method\n",
    "markers = ['o', 'v', 's', 'p', 'P', '*', 'X', 'D', 'd', 'x', '1', '2', '3', '4', '8', 'h', 'H', '+', 'x', 'D', 'd', '|', '_']\n",
    "\n",
    "fig, ax = plt.subplots()\n",
    "for i,[method, group] in enumerate(df_all.groupby(['M'])):\n",
    "\n",
    "    # group by 'frame_count' column\n",
    "    count_group = group.groupby(['Frame Count'])\n",
    "    # last_compare =-np.inf\n",
    "    # for j,[method, group] in enumerate(count_group):\n",
    "    #     # print(method)\n",
    "    #     # print(group['Area Percent'].mean())\n",
    "    #     cur_mean = group['Area Percent'].mean()\n",
    "    #     ax.plot(j, cur_mean, label=method, marker=markers[i])\n",
    "    #     if cur_mean < last_compare:\n",
    "    #         print(\"Error\")\n",
    "    #         print(f\"{i}{j}last_compare: {last_compare} cur_mean: {cur_mean}\")\n",
    "                  \n",
    "    #         break\n",
    "    #     last_compare = cur_mean\n",
    "\n",
    "    # # break\n",
    "    # continue\n",
    "\n",
    "    # plot mean of 'area_percent' against 'frame_count'\n",
    "    # plt.plot( count_group['area_percent'].mean(), label=method, marker=markers[i])\n",
    "    x_data =count_group['Area Percent'].mean()\n",
    "\n",
    "    # uniformy sample 1000 data points\n",
    "    # x_data =count_group['area_percent'].mean().sample(n=1000, replace=True).sort_values()\n",
    "    plt.plot( x_data, label=method, marker=markers[i],)\n",
    "    \n",
    "\n",
    "# plt.legend()\n",
    "# make y axis log scale\n",
    "\n",
    "# set y range\n",
    "# y_min = \n",
    "plt.ylim(0.90, 1)\n",
    "plt.xlim(200,400)\n",
    "# make x axis log scale\n",
    "\n",
    "# increase tick frequency every 10\n",
    "# plt.yticks(np.arange(0, 1, .10))\n",
    "# rotate x axis labels\n",
    "# plt.xticks(rotation=90)\n",
    "# add grid\n",
    "plt.grid(True, which=\"both\", ls=\"-\", color='0.65')\n",
    "# label the x axis\n",
    "plt.xlabel('Frame Count')\n",
    "# label the y axis\n",
    "plt.ylabel('Area Percent')\n",
    "\n",
    "# decrease the marker size\n",
    "plt.rcParams['lines.markersize'] = 2\n",
    "\n",
    "# set the title\n",
    "# plt.title('Area Percent vs Frame Count')\n",
    "# place the legend outside the plot\n",
    "plt.legend(bbox_to_anchor=(1.05, 1), loc='upper left', borderaxespad=0.)\n",
    "# tight\n",
    "plt.tight_layout()\n",
    "\n",
    "# save the figure\n",
    "plt.savefig(f\"{root_directory}/../data_analysis/plots/area_percent_vs_frame_count.png\", dpi=300)"
   ]
  },
  {
   "cell_type": "code",
   "execution_count": null,
   "metadata": {},
   "outputs": [],
   "source": [
    "final_average = df_all.drop_duplicates(subset=['Method'], keep='last')\n",
    "\n",
    "final_average['Experiment Id'].max"
   ]
  },
  {
   "cell_type": "code",
   "execution_count": null,
   "metadata": {},
   "outputs": [],
   "source": [
    "df_all[,'Experiment Id'].unique()"
   ]
  },
  {
   "cell_type": "code",
   "execution_count": null,
   "metadata": {},
   "outputs": [],
   "source": [
    "pd.options.display.float_format = '{:20,.2f}'.format"
   ]
  },
  {
   "cell_type": "code",
   "execution_count": null,
   "metadata": {},
   "outputs": [],
   "source": [
    "df_all[['Experiment Id','Frame Count']].describe()\n",
    "# decribe with out "
   ]
  },
  {
   "cell_type": "code",
   "execution_count": null,
   "metadata": {},
   "outputs": [],
   "source": [
    "df_400 = df_all[df_all['Frame Count']<400]\n",
    "df_400"
   ]
  },
  {
   "cell_type": "code",
   "execution_count": null,
   "metadata": {},
   "outputs": [],
   "source": [
    "df_end = df_all.drop_duplicates(subset=['Experiment Id'], keep='last').sort_values(by=['Experiment Id'])\n",
    "# create an actanom column for the methods that takse the 1st letter of the method of each method\n",
    "df_end['M'] = df_end['Method'].apply(lambda x: ''.join([str(i[0])+'.' for i in x.split(' ')]))\n",
    "df_end['M'] \n",
    "df_end"
   ]
  },
  {
   "cell_type": "code",
   "execution_count": null,
   "metadata": {},
   "outputs": [],
   "source": [
    "sns.lineplot(\n",
    "    # frame count less than 400\n",
    "    data=df_end, \n",
    "    x=\"Frame Count\", y=\"Area Percent\", hue=\"N Bots\",\n",
    "    # col=\"Loss Type\", \n",
    ")\n",
    "# set y range\n",
    "plt.ylim(0.0,1)\n",
    "plt.xlim(0,400)\n",
    "plt.grid(True, which=\"both\", ls=\"-\", color='0.65')\n",
    "plt.yticks(np.arange(0, 1, .10))\n",
    "\n",
    "\n",
    "# save the figure\n",
    "plt.savefig(f\"area_percent_vs_frame_count_n_bots.png\")"
   ]
  },
  {
   "cell_type": "code",
   "execution_count": null,
   "metadata": {},
   "outputs": [],
   "source": [
    "df_agent = df_all[df_all['Loss Type']=='Agent']\n",
    "df_agent"
   ]
  },
  {
   "cell_type": "code",
   "execution_count": null,
   "metadata": {},
   "outputs": [],
   "source": [
    "grd = sns.lineplot(\n",
    "    # frame count less than 400\n",
    "    data=df_agent, \n",
    "    x=\"Frame Count\", y=\"Update Time\", hue=\"N Bots\",\n",
    "    # col=\"Loss Type\", \n",
    ")\n",
    "\n",
    "grd.set_ylabel(\"System Update Time (in Sec)\")\n",
    "grd.set_xlabel(\"Iteration Count\")\n",
    "# set y range\n",
    "plt.grid(True, which=\"both\", ls=\"-\", color='0.65')\n",
    "# plt.yticks(np.arange(0, 1, .10))\n",
    "plt.ylim(0, 0.4)\n",
    "plt.xlim(0,200)\n",
    "plt.legend(title='Number of Robots')\n",
    "\n",
    "# save the figure\n",
    "plt.savefig(f\"update_time_vs_frame_count_n_bots.png\", dpi=300)"
   ]
  },
  {
   "cell_type": "code",
   "execution_count": null,
   "metadata": {},
   "outputs": [],
   "source": [
    "# The average frame_count for each method\n",
    "df_all.groupby(['method']).max()['frame_count'].sort_values()"
   ]
  },
  {
   "cell_type": "code",
   "execution_count": null,
   "metadata": {},
   "outputs": [],
   "source": [
    "df_all.groupby(['method'])['delta_time'].max()"
   ]
  },
  {
   "cell_type": "code",
   "execution_count": null,
   "metadata": {},
   "outputs": [],
   "source": [
    "df_all.groupby(['method']).agg({'delta_time': np.ptp})"
   ]
  },
  {
   "cell_type": "code",
   "execution_count": null,
   "metadata": {},
   "outputs": [],
   "source": [
    "# df_all.groupby(['method'])\n",
    "for i,[method, group] in enumerate(df_all.groupby(['method'])):\n",
    "    # group by 'frame_count' column\n",
    "    # plot mean of 'area_percent' against 'frame_count'\n",
    "    # plt.plot( count_group['delta_time'].mean(), label=method, marker=markers[i])\n",
    "    # plt.plot( np.arange(0, len(count_group['delta_time'])), count_group['delta_time'], label=method, marker=markers[i])\n",
    "    sns.lineplot(data=group, x=\"frame_count\", y=\"delta_time\",err_style=\"bars\", ci=68, label=method, )\n",
    "\n",
    "plt.legend()\n",
    "\n"
   ]
  },
  {
   "cell_type": "code",
   "execution_count": null,
   "metadata": {},
   "outputs": [],
   "source": [
    "df_all['experiment_ID'].unique()"
   ]
  },
  {
   "cell_type": "code",
   "execution_count": null,
   "metadata": {},
   "outputs": [],
   "source": [
    "# df_all.groupby(['method','experiment_ID'])\n",
    "for i,[method, group] in enumerate(df_all.groupby(['method', 'experiment_ID'])):\n",
    "    print(\"i: \", i, \"method: \", method, \"group: \", group.shape)\n",
    "    # group by 'frame_count' column\n",
    "    count_group = group.groupby(['frame_count'])\n",
    "    # plot mean of 'area_percent' against 'frame_count' \n",
    "    # plt.plot( count_group['delta_time'].mean(), label=method, marker=markers[i])"
   ]
  },
  {
   "cell_type": "code",
   "execution_count": null,
   "metadata": {},
   "outputs": [],
   "source": [
    "sns.lineplot(df_all.groupby(['Experiment Id']).mean().sort_values('Frame Count'), x=\"Frame Count\", y=\"Area Percent\", \n",
    "              hue=\"Method\", style=\"Loss Type\", markers=True, dashes=False,\n",
    "            #   fill=True,\n",
    "            # thresh=0, levels=5, cmap=\"mako\"\n",
    "            )\n",
    "\n",
    "plt.ylim(0.96, 1)"
   ]
  },
  {
   "cell_type": "code",
   "execution_count": null,
   "metadata": {},
   "outputs": [],
   "source": []
  },
  {
   "cell_type": "code",
   "execution_count": null,
   "metadata": {},
   "outputs": [],
   "source": []
  }
 ],
 "metadata": {
  "kernelspec": {
   "display_name": "tensorflow",
   "language": "python",
   "name": "python3"
  },
  "language_info": {
   "codemirror_mode": {
    "name": "ipython",
    "version": 3
   },
   "file_extension": ".py",
   "mimetype": "text/x-python",
   "name": "python",
   "nbconvert_exporter": "python",
   "pygments_lexer": "ipython3",
   "version": "3.9.2"
  },
  "orig_nbformat": 4
 },
 "nbformat": 4,
 "nbformat_minor": 2
}
