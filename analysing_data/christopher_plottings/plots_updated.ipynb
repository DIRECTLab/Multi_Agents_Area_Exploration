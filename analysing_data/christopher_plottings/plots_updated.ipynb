{
 "cells": [
  {
   "cell_type": "code",
   "execution_count": null,
   "metadata": {},
   "outputs": [],
   "source": [
    "import pandas as pd\n",
    "import numpy as np\n",
    "import os\n",
    "\n",
    "import matplotlib.pyplot as plt\n",
    "import seaborn as sns"
   ]
  },
  {
   "cell_type": "code",
   "execution_count": null,
   "metadata": {},
   "outputs": [],
   "source": [
    "sns.set_style(\"whitegrid\")\n",
    "palette = sns.color_palette()"
   ]
  },
  {
   "cell_type": "code",
   "execution_count": null,
   "metadata": {},
   "outputs": [],
   "source": [
    "sns.set_palette(palette)\n",
    "palette"
   ]
  },
  {
   "attachments": {},
   "cell_type": "markdown",
   "metadata": {},
   "source": [
    "# Preparing the Dataframe"
   ]
  },
  {
   "cell_type": "code",
   "execution_count": null,
   "metadata": {},
   "outputs": [],
   "source": [
    "if 'plots' in os.getcwd():\n",
    "    print(\"cwd is correct\")\n",
    "else:\n",
    "    MYDIR = (\"plots\")\n",
    "    os.chdir(\"../\")\n",
    "    CHECK_FOLDER = os.path.isdir(MYDIR)\n",
    "    ## If folder doesn't exist, then create it.\n",
    "    if not CHECK_FOLDER:\n",
    "        os.makedirs(MYDIR)\n",
    "        print(\"created folder : \", MYDIR)\n",
    "\n",
    "    else:\n",
    "        print(MYDIR, \"folder already exists.\")\n",
    "\n",
    "os.chdir(\"plots/\")\n",
    "print(\"current directroy is: \", os.getcwd())"
   ]
  },
  {
   "cell_type": "code",
   "execution_count": null,
   "metadata": {},
   "outputs": [],
   "source": [
    "# check the data for NaN values or other errors\n",
    "df_all = pd.read_csv(f\"../../data_save/all_data.csv\")"
   ]
  },
  {
   "cell_type": "code",
   "execution_count": null,
   "metadata": {},
   "outputs": [],
   "source": [
    "pd.options.display.max_columns = 500 # this will set limit of columns to 500"
   ]
  },
  {
   "cell_type": "code",
   "execution_count": null,
   "metadata": {},
   "outputs": [],
   "source": [
    "df_all.shape"
   ]
  },
  {
   "cell_type": "code",
   "execution_count": null,
   "metadata": {},
   "outputs": [],
   "source": [
    "# drop all columns with NaN values\n",
    "df_all = df_all.dropna(axis=1)\n",
    "df_all.shape"
   ]
  },
  {
   "cell_type": "code",
   "execution_count": null,
   "metadata": {},
   "outputs": [],
   "source": [
    "df_all['method'] = df_all['method'].astype('category')\n",
    "df_all['method'] = df_all['method'].apply(lambda x: x.replace('_', ' ').title())\n",
    "\n",
    "# remove all _ from the column names\n",
    "df_all.columns = df_all.columns.str.replace('_', ' ')\n",
    "# make all the columns tital like\n",
    "df_all.columns = df_all.columns.str.title()"
   ]
  },
  {
   "cell_type": "code",
   "execution_count": null,
   "metadata": {},
   "outputs": [],
   "source": [
    "df_all.columns"
   ]
  },
  {
   "cell_type": "code",
   "execution_count": null,
   "metadata": {},
   "outputs": [],
   "source": [
    "df_all['M'] = df_all['M'].replace(['G'], 'AM')"
   ]
  },
  {
   "cell_type": "code",
   "execution_count": null,
   "metadata": {},
   "outputs": [],
   "source": [
    "df_all['M'] = df_all['Method'].apply(lambda x: ''.join([str(i[0]) for i in x.split(' ')]))\n",
    "df_end = df_all.drop_duplicates(subset=['Experiment Id'], keep='last').sort_values(by=['Experiment Id'])"
   ]
  },
  {
   "cell_type": "code",
   "execution_count": null,
   "metadata": {},
   "outputs": [],
   "source": [
    "df_agent = df_all[df_all['Loss Type'] == 'Agent']\n",
    "df_agent_end = df_agent.drop_duplicates(subset=['Experiment Id'], keep='last').sort_values(by=['Experiment Id'])"
   ]
  },
  {
   "cell_type": "code",
   "execution_count": null,
   "metadata": {},
   "outputs": [],
   "source": [
    "df_all_success = df_all[df_all['Success'] == True]"
   ]
  },
  {
   "attachments": {},
   "cell_type": "markdown",
   "metadata": {},
   "source": [
    "# Worst Case Scenario"
   ]
  },
  {
   "cell_type": "code",
   "execution_count": null,
   "metadata": {},
   "outputs": [],
   "source": [
    "df_all_success_four = df_all_success[df_all_success['N Bots'] == 4]"
   ]
  },
  {
   "cell_type": "code",
   "execution_count": null,
   "metadata": {},
   "outputs": [],
   "source": [
    "wost_case = df_all_success_four.groupby(['M']).max()[['Frame Count', 'Delta Time']].sort_values(by='Frame Count')\n",
    "with open(f\"worst_case.txt\", 'w') as f:\n",
    "    f.write(wost_case.to_latex())\n",
    "wost_case"
   ]
  },
  {
   "attachments": {},
   "cell_type": "markdown",
   "metadata": {},
   "source": [
    "# Quality Metric Table"
   ]
  },
  {
   "cell_type": "code",
   "execution_count": null,
   "metadata": {},
   "outputs": [],
   "source": [
    "# quality_metric = df_agent_end.groupby(['M']).mean()\n",
    "# quality_metric['Quality'] = quality_metric['Known Area'] / quality_metric['Total Distance Travelled']\n",
    "# # show quality and method\n",
    "# quality_metric = quality_metric.reset_index()[['M','Quality','Known Area','Total Distance Travelled']]\n",
    "# # method_group[['M','Quality']]\n",
    "# quality_metric = quality_metric.sort_values(by='Quality', ascending=False)\n",
    "# quality_metric.reset_index()\n",
    "\n",
    "# with open(f\"success_metric.tex\", 'w') as f:\n",
    "#     # f.write(df_end.groupby(['Loss Type', 'Method','Success']).count()['Experiment Id'].to_latex())\n",
    "#     # rotate the table 90 degrees so the index is now the columns\n",
    "#     f.write(quality_metric.to_latex())\n",
    "# quality_metric"
   ]
  },
  {
   "attachments": {},
   "cell_type": "markdown",
   "metadata": {},
   "source": [
    "# Failed Experiment Check"
   ]
  },
  {
   "cell_type": "code",
   "execution_count": null,
   "metadata": {},
   "outputs": [],
   "source": [
    "# Total success count\n",
    "print('Success Count: ', df_end['Success'].value_counts()[True])\n",
    "# Total fail count\n",
    "print('Fail Countsss: ', df_end['Success'].value_counts()[False])\n",
    "# What is the overall success rate\n",
    "print(\"Success rate is: \", df_end['Success'].value_counts()[True]/df_end['Success'].value_counts().sum())\n",
    "total_success = df_end['Success'].value_counts()[True]\n",
    "total_fail = df_end['Success'].value_counts()[False]\n",
    "total_experiments = total_success + total_fail\n",
    "print(\"Total number of experiments: \", total_experiments, \"\\n\\n\")\n",
    "\n",
    "\n",
    "print(df_end[df_end['Success'] == False]['Loss Type'].value_counts())\n",
    "print(df_end[df_end['Success'] == True]['Loss Type'].value_counts())\n",
    "# print(df_end[df_end['Success'] == False]['Method'].value_counts())"
   ]
  },
  {
   "cell_type": "code",
   "execution_count": null,
   "metadata": {},
   "outputs": [],
   "source": [
    "df_loss_unsuccessful = df_end[df_end['Success'] == False]\n",
    "\n",
    "# df_loss_unsuccessful_disrepair = df_loss_unsuccessful[df_loss_unsuccessful['Loss Type'] == 'Disrepair']\n",
    "# df_loss_unsuccessful_disrepair['N Bots'].value_counts()\n",
    "# df_loss_unsuccessful_disrepair = df_loss_unsuccessful[df_loss_unsuccessful['Loss Type'] == 'Unrecoverable']\n",
    "# df_loss_unsuccessful_disrepair['N Bots'].value_counts()\n",
    "\n",
    "df_loss_unsuccessful['N Bots'].value_counts()\n",
    "# sns.barplot(y=\"M\", x=\"Success Ratio\", hue=\"Loss Type\", data=method_group.reset_index())"
   ]
  },
  {
   "cell_type": "code",
   "execution_count": null,
   "metadata": {},
   "outputs": [],
   "source": [
    "loss_group = df_loss_unsuccessful.groupby(['M', 'N Bots']).count()['Experiment Id'].unstack()\n",
    "loss_group"
   ]
  },
  {
   "cell_type": "code",
   "execution_count": null,
   "metadata": {},
   "outputs": [],
   "source": [
    "# df_end['Success Ratio'] \n",
    "loss_group2 = df_loss_unsuccessful.groupby(['Loss Type', 'N Bots']).count()['Experiment Id'].unstack()\n",
    "# loss_group2['Total'] = loss_group2[4]+loss_group2[8] + loss_group2[12]\n",
    "\n",
    "with open(f\"loss_count_vs_agents_size.tex\", 'w') as f:\n",
    "    f.write(loss_group2.to_latex())\n",
    "\n",
    "loss_group2"
   ]
  },
  {
   "cell_type": "code",
   "execution_count": null,
   "metadata": {},
   "outputs": [],
   "source": [
    "df_loss_unsuccessful_unrecoverable = df_loss_unsuccessful[df_loss_unsuccessful['Loss Type'] == 'Unrecoverable']"
   ]
  },
  {
   "cell_type": "code",
   "execution_count": null,
   "metadata": {},
   "outputs": [],
   "source": [
    "sns.set_style(\"whitegrid\")\n",
    "# df_end_success = df_end_success.replace(to_replace=\"Goal Scenario\", value=\"Helloooo\")\n",
    "sorted_x_data = df_loss_unsuccessful_unrecoverable.groupby(\"M\")[\"Area Percent\"].median().sort_values().index\n",
    "grd = sns.boxplot(\n",
    "    data=df_loss_unsuccessful_unrecoverable, \n",
    "    y=\"Area Percent\", x=\"M\", hue=\"N Bots\", \n",
    "    showfliers=False,\n",
    "    order=sorted_x_data,\n",
    ")\n",
    "# grd.legend(bbox_to_anchor=(1.02, 1), loc='upper left', borderaxespad=0, title='Strategies')\n",
    "# make the legonf in two columns\n",
    "grd.legend(ncol=3, title='Number of Robots')\n",
    "\n",
    "grd.set_xticklabels(grd.get_xticklabels(), rotation=45, horizontalalignment='right')\n",
    "# set x range \n",
    "# grd.set(ylim=(0, 310))\n",
    "# set Y label\n",
    "grd.set_ylabel(\"Final Area Percent\")\n",
    "grd.set_xlabel(\"Stratagies\")\n",
    "# grd.set(ylim=(0.9, 1))\n",
    "\n",
    "\n",
    "\n",
    "plt.savefig(f\"unsuccesssful_unrecoverable_analysis.png\", bbox_inches='tight' ,dpi=300)"
   ]
  },
  {
   "attachments": {},
   "cell_type": "markdown",
   "metadata": {},
   "source": [
    "# Plots Start"
   ]
  },
  {
   "cell_type": "code",
   "execution_count": null,
   "metadata": {},
   "outputs": [],
   "source": [
    "df_end_success = df_end[df_end['Success'] == True]\n",
    "\n",
    "with open(f\"methods.tex\", 'w') as f:\n",
    "    # f.write(df_end_success[['Method', \"M\"]].drop_duplicates().reset_index(drop=True).to_latex())\n",
    "    # sort alphabetically\n",
    "    f.write(df_end_success[['Method', \"M\"]].drop_duplicates().sort_values(by='Method').reset_index(drop=True).to_latex())"
   ]
  },
  {
   "cell_type": "code",
   "execution_count": null,
   "metadata": {},
   "outputs": [],
   "source": [
    "result = df_end_success.groupby([\"M\"])['Frame Count'].aggregate(np.mean).reset_index().sort_values('Frame Count')"
   ]
  },
  {
   "cell_type": "code",
   "execution_count": null,
   "metadata": {},
   "outputs": [],
   "source": [
    "sns.set_style('whitegrid', rc={'ytick.left': True})\n",
    "\n",
    "grd = sns.barplot(\n",
    "    data=df_end_success,\n",
    "    x=\"N Bots\",\n",
    "    y=\"Frame Count\",\n",
    "    hue = \"M\",\n",
    "    errorbar=(\"pi\", 100),\n",
    "    errwidth=1.5,\n",
    "    capsize=.04,\n",
    "    linewidth=0,\n",
    "    alpha=.8,\n",
    "    hue_order=result['M']\n",
    ")\n",
    "# grd.legend(ncol=5)\n",
    "grd.legend(bbox_to_anchor=(1.02, 1), loc='upper left', borderaxespad=0, title='Strategies')\n",
    "\n",
    "grd.set_ylabel(\"Time (seconds)\")\n",
    "grd.set_xlabel(\"Number of Robots\")\n",
    "grd.set_xticklabels(grd.get_xticklabels(), horizontalalignment='right')\n",
    "\n",
    "plt.yticks(range(0, 1026, 25))\n",
    "for ind, label in enumerate(grd.get_yticklabels()):\n",
    "    if ind % 4 == 0:  # every 10th label is kept\n",
    "        label.set_visible(True)\n",
    "    else:\n",
    "        label.set_visible(False)\n",
    "\n",
    "plt.savefig(f\"exploration_completion_time_barplot.png\", bbox_inches='tight' ,dpi=300)"
   ]
  },
  {
   "cell_type": "code",
   "execution_count": null,
   "metadata": {},
   "outputs": [],
   "source": [
    "sns.set_style('whitegrid', rc={'ytick.left': True})\n",
    "\n",
    "grd = sns.lineplot(\n",
    "    data=df_end_success,\n",
    "    x=\"N Bots\",\n",
    "    y=\"Frame Count\",\n",
    "    hue = \"M\",\n",
    "    alpha=.8,\n",
    "    hue_order=result['M']\n",
    ")\n",
    "# grd.legend( ncol=2,)\n",
    "plt.legend(bbox_to_anchor=(1.02, 1), loc='upper left', borderaxespad=0, title='Strategies')\n",
    "\n",
    "grd.set_ylabel(\"Time (seconds)\")\n",
    "grd.set_xlabel(\"Number of Robots\")\n",
    "\n",
    "plt.xticks(range(4, 16, 4))\n",
    "plt.yticks(range(0, 401, 25))\n",
    "for ind, label in enumerate(grd.get_yticklabels()):\n",
    "    if ind % 4 == 0:  # every 10th label is kept\n",
    "        label.set_visible(True)\n",
    "    else:\n",
    "        label.set_visible(False)\n",
    "\n",
    "plt.savefig(f\"exploration_completion_time_lineplot.png\", bbox_inches='tight' ,dpi=300)"
   ]
  },
  {
   "cell_type": "code",
   "execution_count": null,
   "metadata": {},
   "outputs": [],
   "source": [
    "sns.set_style(\"whitegrid\")\n",
    "# df_end_success = df_end_success.replace(to_replace=\"Goal Scenario\", value=\"Helloooo\")\n",
    "\n",
    "grd = sns.barplot(\n",
    "    # data=df_end_success, \n",
    "    data = df_end_success[df_end_success['N Bots'] == 4],\n",
    "    y=\"Frame Count\", x=\"Min Room Size\", hue=\"M\", \n",
    "    # showfliers=False,\n",
    "    errorbar=(\"pi\", 100),\n",
    "    errwidth=1.5,\n",
    "    capsize=.04,\n",
    "    # errcolor=\".4\",\n",
    "    linewidth=0,\n",
    "\n",
    "    # edgecolor=\".5\",\n",
    "    alpha=.8,\n",
    "    hue_order=result['M']\n",
    ")\n",
    "grd.legend(bbox_to_anchor=(1.02, 1), loc='upper left', borderaxespad=0, title='Strategies')\n",
    "# make the legonf in two columns\n",
    "# grd.legend( ncol=5,)\n",
    "\n",
    "\n",
    "# set x range \n",
    "# grd.set(ylim=(0, 310))\n",
    "# set Y label\n",
    "grd.set_ylabel(\"Time (seconds)\")\n",
    "grd.set_xlabel(\"Minimum Room Size (meters)\")\n",
    "# grd.set(ylim=(0, 550))\n",
    "# grd.set_xticklabels(rotation=30)\n",
    "# plt.yticks(range(0, 310, 20))\n",
    "plt.yticks(range(0, 1026, 25))\n",
    "for ind, label in enumerate(grd.get_yticklabels()):\n",
    "    if ind % 4 == 0:  # every 10th label is kept\n",
    "        label.set_visible(True)\n",
    "    else:\n",
    "        label.set_visible(False)\n",
    "\n",
    "# plt.grid(axis='y')\n",
    "# plt.grid(color='gray', linestyle='dashed')\n",
    "# need some cut before upload to overleaf\n",
    "plt.savefig(f\"room_density_vs_iteration_count_hue_strategies.png\", bbox_inches='tight' ,dpi=300)"
   ]
  },
  {
   "cell_type": "code",
   "execution_count": null,
   "metadata": {},
   "outputs": [],
   "source": [
    "df_all_success"
   ]
  },
  {
   "cell_type": "code",
   "execution_count": null,
   "metadata": {},
   "outputs": [],
   "source": [
    "# grd = sns.lineplot(data=df_all_success_four, x = 'Frame Count',y = 'Replan Count', hue='M')\n",
    "# grd.legend(bbox_to_anchor=(1.02, 1), loc='upper left', borderaxespad=0, title='Strategies')\n",
    "# # plt.xticks(range(0, 1000, 100))\n",
    "# # plt.ylim(0, 600)\n",
    "# grd.set_ylabel(\"Replan Count\")\n",
    "# grd.set_xlabel(\"Time (seconds)\")\n",
    "# plt.savefig(f\"time_vs_replan_count_hue_strategies_before_padding.png\", bbox_inches='tight', dpi=300)"
   ]
  },
  {
   "cell_type": "code",
   "execution_count": null,
   "metadata": {},
   "outputs": [],
   "source": [
    "# grd = sns.lineplot(data=df_all_success_four, x = 'Frame Count',y = 'Replan Count', hue='Min Room Size')\n",
    "# grd.legend(bbox_to_anchor=(1.02, 1), loc='upper left', borderaxespad=0, title='Room Density')\n",
    "# # plt.xticks(range(0, 1000, 100))\n",
    "# # plt.ylim(0, 400)\n",
    "# grd.set_ylabel(\"Replan Count\")\n",
    "# grd.set_xlabel(\"Time (seconds)\")\n",
    "# plt.savefig(f\"time_vs_replan_count_hue_density_before_padding.png\", bbox_inches='tight' ,dpi=300)"
   ]
  },
  {
   "attachments": {},
   "cell_type": "markdown",
   "metadata": {},
   "source": [
    "# PADDING DATA AND PLOTTING 2 FIGURES WITH PAD"
   ]
  },
  {
   "cell_type": "code",
   "execution_count": null,
   "metadata": {},
   "outputs": [],
   "source": [
    "# for i,[method, group] in enumerate(df_all_success.groupby(['M'])):\n",
    "#     print(\"i: \", i, \"Method: \", method, \"Group: \", group.shape)\n",
    "#     group_counts = group.groupby('Experiment Id')['Replan Count'].apply(lambda x: x.iloc[-1])\n",
    "#     unique =  set(group['Frame Count'].unique())\n",
    "#     data2 = group.groupby(\"Experiment Id\").agg({\"Frame Count\":lambda x: unique - set(x)}).explode(\"Frame Count\").dropna().reset_index()\n",
    "\n",
    "#     for j in group_counts.index:\n",
    "#         data2.loc[data2['Experiment Id'] == j, \"Replan Count\"] = group_counts[j]\n",
    "#     new_data = pd.concat([group, data2]).sort_values([\"Experiment Id\", \"Frame Count\"])\n",
    "    \n",
    "#     count_group = new_data.groupby(['Frame Count'])\n",
    "#     x_data = count_group['Replan Count'].mean()\n",
    "#     sns.lineplot(x_data, label=method)\n",
    "#     # sns.set_ylabels(\"Replan Count\")\n",
    "# plt.xlabel(\"Time (seconds)\")\n",
    "# plt.legend(bbox_to_anchor=(1.02, 1), loc='upper left', borderaxespad=0, title='Strategies')    \n",
    "# plt.savefig(f\"time_vs_replan_count_hue_strategies_after_padding.png\", bbox_inches='tight', dpi=300)"
   ]
  },
  {
   "cell_type": "code",
   "execution_count": null,
   "metadata": {},
   "outputs": [],
   "source": [
    "# for i,[method, group] in enumerate(df_all_success.groupby(['Min Room Size'])):\n",
    "#     print(\"i: \", i, \"Method: \", method, \"Group: \", group.shape)\n",
    "#     group_counts = group.groupby('Experiment Id')['Replan Count'].apply(lambda x: x.iloc[-1])\n",
    "#     unique =  set(group['Frame Count'].unique())\n",
    "#     data2 = group.groupby(\"Experiment Id\").agg({\"Frame Count\":lambda x: unique - set(x)}).explode(\"Frame Count\").dropna().reset_index()\n",
    "\n",
    "#     for j in group_counts.index:\n",
    "#         data2.loc[data2['Experiment Id'] == j, \"Replan Count\"] = group_counts[j]\n",
    "#     new_data = pd.concat([group, data2]).sort_values([\"Experiment Id\", \"Frame Count\"])\n",
    "    \n",
    "#     count_group = new_data.groupby(['Frame Count'])\n",
    "#     x_data = count_group['Replan Count'].mean()\n",
    "#     sns.lineplot(x_data, label=method)\n",
    "#     # sns.set_ylabels(\"Replan Count\")\n",
    "# plt.xlabel(\"Time (seconds)\")\n",
    "# plt.legend(bbox_to_anchor=(1.02, 1), loc='upper left', borderaxespad=0, title='Strategies')    \n",
    "# plt.savefig(f\"time_vs_replan_count_hue_density_after_padding.png\", bbox_inches='tight', dpi=300)"
   ]
  },
  {
   "attachments": {},
   "cell_type": "markdown",
   "metadata": {},
   "source": [
    "# PADDING FINISH"
   ]
  },
  {
   "cell_type": "code",
   "execution_count": null,
   "metadata": {},
   "outputs": [],
   "source": [
    "df_end_success['Goal Scenario'].unique()"
   ]
  },
  {
   "cell_type": "code",
   "execution_count": null,
   "metadata": {},
   "outputs": [],
   "source": [
    "df_end_success['Goal Scenario'] = df_end_success['Goal Scenario'].replace(['goal-Center_Start'], 'Center of Map')\n",
    "df_end_success['Goal Scenario'] = df_end_success['Goal Scenario'].replace(['goal-Distributed_Start'], 'Equal Spread')\n",
    "df_end_success['Goal Scenario'] = df_end_success['Goal Scenario'].replace(['goal-Edge_Start'], 'Edges of Map')\n",
    "df_end_success['Goal Scenario'] = df_end_success['Goal Scenario'].replace(['goal-Rand_Start'], 'Random Location')\n",
    "df_end_success['Goal Scenario'] = df_end_success['Goal Scenario'].replace(['goal-Top_Left_Start'], 'Top Left Corner')\n"
   ]
  },
  {
   "cell_type": "code",
   "execution_count": null,
   "metadata": {},
   "outputs": [],
   "source": [
    "df_end_success['Goal Scenario'].unique()"
   ]
  },
  {
   "cell_type": "code",
   "execution_count": null,
   "metadata": {},
   "outputs": [],
   "source": [
    "palet2 = sns.color_palette(\"bright\", 10)\n",
    "paletinv = palet2.reverse()\n",
    "paletinv\n"
   ]
  },
  {
   "cell_type": "code",
   "execution_count": null,
   "metadata": {},
   "outputs": [],
   "source": [
    "result22 = df_end_success.groupby([\"Goal Scenario\"])['Frame Count'].aggregate(np.mean).reset_index().sort_values('Frame Count')"
   ]
  },
  {
   "cell_type": "code",
   "execution_count": null,
   "metadata": {},
   "outputs": [],
   "source": [
    "sns.set_style('whitegrid', rc={'ytick.left': True})\n",
    "\n",
    "grd = sns.barplot(\n",
    "    data = df_end_success[df_end_success['N Bots'] == 4],\n",
    "    y=\"Frame Count\", x=\"M\", hue=\"Goal Scenario\", \n",
    "    palette = palet2,\n",
    "    \n",
    "    errorbar=(\"pi\", 100),\n",
    "    errwidth=1.5,\n",
    "    capsize=.04,\n",
    "    # errcolor=\".4\",\n",
    "    linewidth=0,\n",
    "    \n",
    "    order=result['M'],\n",
    "    hue_order = result22['Goal Scenario']\n",
    "    \n",
    "    \n",
    ")\n",
    "grd.legend(ncol=3, loc='upper center', bbox_to_anchor=(0.5, 1.2), title='Distribution Scenarios')\n",
    "# plt.legend(loc='upper left', title='Distribution Scenarios')\n",
    "# grd.legend(bbox_to_anchor=(1.02, 1), loc='upper left', borderaxespad=0, title='Distribution Scenarios')\n",
    "grd.set_ylabel(\"Time (seconds)\")\n",
    "grd.set_xlabel(\"Strategies\")\n",
    "grd.set_xticklabels(grd.get_xticklabels(), horizontalalignment='right', rotation=30),\n",
    "\n",
    "# plt.legend(bbox_to_anchor=(1.02, 1), loc='upper left', borderaxespad=0, title='Strategies')\n",
    "\n",
    "plt.yticks(range(0, 1026, 25))\n",
    "for ind, label in enumerate(grd.get_yticklabels()):\n",
    "    if ind % 4 == 0:  # every 10th label is kept\n",
    "        label.set_visible(True)\n",
    "    else:\n",
    "        label.set_visible(False)\n",
    "\n",
    "plt.savefig(f\"distribution_vs_segmentation.png\", bbox_inches='tight' ,dpi=300)"
   ]
  },
  {
   "cell_type": "code",
   "execution_count": null,
   "metadata": {},
   "outputs": [],
   "source": [
    "Area_max = df_all['Rows'].iloc[0] * df_all['Cols'].iloc[0]\n",
    "Area_max"
   ]
  },
  {
   "cell_type": "code",
   "execution_count": null,
   "metadata": {},
   "outputs": [],
   "source": [
    "df_end_success_four = df_end_success[df_end_success['N Bots'] == 4]"
   ]
  },
  {
   "cell_type": "code",
   "execution_count": null,
   "metadata": {},
   "outputs": [],
   "source": [
    "# calculate Quality df_all for each all the data\n",
    "# Quality = Area_max/Total Distance Traveled\n",
    "df_end_success_four['Quality'] = Area_max/df_end_success_four['Total Distance Travelled']\n",
    "df_end_success_four['Quality'].describe()"
   ]
  },
  {
   "cell_type": "code",
   "execution_count": null,
   "metadata": {},
   "outputs": [],
   "source": [
    "# Sort the x-axis data based on \"Quality\"\n",
    "sorted_x_data = df_end_success_four.groupby(\"M\")[\"Quality\"].median().sort_values().index\n",
    "\n",
    "grd = sns.boxplot(\n",
    "    data=df_end_success_four, \n",
    "    y=\"Quality\", \n",
    "    hue=\"Loss Type\", \n",
    "    x=\"M\", \n",
    "    order=sorted_x_data,  # Specify the sorted x-axis data\n",
    "    showfliers=False,\n",
    "    # alpha=.8,\n",
    "    hue_order=['Disrepair', 'Agent', 'Unrecoverable']\n",
    ")\n",
    "\n",
    "# grd.legend(bbox_to_anchor=(1.02, 1), loc='upper left', borderaxespad=0, title='Loss Types')\n",
    "grd.set_xticklabels(grd.get_xticklabels(), rotation=45, horizontalalignment='right')\n",
    "plt.yticks(range(0, 13, 1))\n",
    "\n",
    "# rename the x axis \n",
    "grd.set(xlabel='Strategies')\n",
    "grd.set(ylabel='Quality Ratio: Area/Distance')\n",
    "\n",
    "plt.savefig(f\"distance_cost_metric.png\", dpi=300, bbox_inches='tight')\n",
    "plt.show()  # Optionally display the plot"
   ]
  }
 ],
 "metadata": {
  "kernelspec": {
   "display_name": "tensorflow",
   "language": "python",
   "name": "python3"
  },
  "language_info": {
   "codemirror_mode": {
    "name": "ipython",
    "version": 3
   },
   "file_extension": ".py",
   "mimetype": "text/x-python",
   "name": "python",
   "nbconvert_exporter": "python",
   "pygments_lexer": "ipython3",
   "version": "3.9.2"
  },
  "orig_nbformat": 4
 },
 "nbformat": 4,
 "nbformat_minor": 2
}
